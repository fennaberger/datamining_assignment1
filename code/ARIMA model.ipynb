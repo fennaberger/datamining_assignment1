{
 "cells": [
  {
   "cell_type": "markdown",
   "id": "c822c9b6-a21a-47e5-b863-858e1f910c36",
   "metadata": {},
   "source": [
    "# ARIMAX MODEL"
   ]
  },
  {
   "cell_type": "markdown",
   "id": "98440fba-f3f5-4d3a-a443-391d192586e1",
   "metadata": {},
   "source": [
    "https://www.datacamp.com/tutorial/arima\n",
    "https://365datascience.com/tutorials/python-tutorials/arimax/\n",
    "https://laurenliz22.github.io/arima_modeling_and_train_test_split"
   ]
  },
  {
   "cell_type": "code",
   "execution_count": 168,
   "id": "7ce05af7-8e47-446e-acf2-7ea5ffbe0020",
   "metadata": {},
   "outputs": [],
   "source": [
    "import pandas as pd\n",
    "import matplotlib.pyplot as plt\n",
    "from statsmodels.tsa.statespace.sarimax import SARIMAX\n",
    "from pmdarima import auto_arima\n",
    "from sklearn.metrics import mean_squared_error, mean_absolute_error, r2_score\n",
    "from sklearn.model_selection import train_test_split"
   ]
  },
  {
   "cell_type": "code",
   "execution_count": 57,
   "id": "b25a48d9-1494-4375-98fc-228e14e60cb0",
   "metadata": {},
   "outputs": [],
   "source": [
    "file_path =  \"./final with standardization/features_regression.csv\"\n",
    "df = pd.read_csv(file_path)"
   ]
  },
  {
   "cell_type": "code",
   "execution_count": 58,
   "id": "e33c7c7e-a3b6-4750-9c25-81a9c206add5",
   "metadata": {},
   "outputs": [
    {
     "name": "stdout",
     "output_type": "stream",
     "text": [
      "1216\n"
     ]
    }
   ],
   "source": [
    "print(len(df))"
   ]
  },
  {
   "cell_type": "code",
   "execution_count": 61,
   "id": "3fd28cb0-eb8d-4685-b23a-5a1778de456b",
   "metadata": {},
   "outputs": [],
   "source": [
    "def corrected_mood(forecast):\n",
    "    rounded = []\n",
    "    \n",
    "    for value in forecast:\n",
    "        decimal_part = value - int(value)\n",
    "        if decimal_part <= 0.5:\n",
    "            rounded_value = int(value) \n",
    "        else:\n",
    "            rounded_value = int(value) + 1  \n",
    "        rounded.append(rounded_value)\n",
    "    \n",
    "    return rounded"
   ]
  },
  {
   "cell_type": "code",
   "execution_count": 103,
   "id": "38ab5479-d62f-4648-97bd-d952f1a3b107",
   "metadata": {},
   "outputs": [],
   "source": [
    "file_path = \"./final with standardization/features_regression.csv\"\n",
    "df = pd.read_csv(file_path)"
   ]
  },
  {
   "cell_type": "markdown",
   "id": "eb865b92-bb68-4e27-8bca-dd61f906976e",
   "metadata": {},
   "source": [
    "### Arimax model -- general"
   ]
  },
  {
   "cell_type": "code",
   "execution_count": 111,
   "id": "11928e50-718b-4bc1-92a4-5e1ab83fe063",
   "metadata": {},
   "outputs": [
    {
     "name": "stderr",
     "output_type": "stream",
     "text": [
      "C:\\Users\\manya\\anaconda3\\Lib\\site-packages\\statsmodels\\tsa\\base\\tsa_model.py:473: ValueWarning: A date index has been provided, but it has no associated frequency information and so will be ignored when e.g. forecasting.\n",
      "  self._init_dates(dates, freq)\n",
      "C:\\Users\\manya\\anaconda3\\Lib\\site-packages\\statsmodels\\tsa\\base\\tsa_model.py:473: ValueWarning: A date index has been provided, but it has no associated frequency information and so will be ignored when e.g. forecasting.\n",
      "  self._init_dates(dates, freq)\n"
     ]
    },
    {
     "name": "stdout",
     "output_type": "stream",
     "text": [
      "                               SARIMAX Results                                \n",
      "==============================================================================\n",
      "Dep. Variable:                 target   No. Observations:                 1216\n",
      "Model:               SARIMAX(1, 1, 3)   Log Likelihood               -1128.112\n",
      "Date:                Sat, 19 Apr 2025   AIC                           2312.224\n",
      "Time:                        19:21:43   BIC                           2455.094\n",
      "Sample:                             0   HQIC                          2366.009\n",
      "                               - 1216                                         \n",
      "Covariance Type:                  opg                                         \n",
      "========================================================================================\n",
      "                           coef    std err          z      P>|z|      [0.025      0.975]\n",
      "----------------------------------------------------------------------------------------\n",
      "appCat.builtin           0.0104      0.024      0.440      0.660      -0.036       0.057\n",
      "appCat.communication     0.0717      0.032      2.252      0.024       0.009       0.134\n",
      "activity                 0.1477      0.215      0.686      0.493      -0.274       0.570\n",
      "appCat.utilities         0.0274      0.020      1.403      0.161      -0.011       0.066\n",
      "appCat.entertainment     0.0674      0.026      2.629      0.009       0.017       0.118\n",
      "call                    -0.0059      0.006     -0.908      0.364      -0.018       0.007\n",
      "appCat.unknown          -0.0010      0.028     -0.035      0.972      -0.055       0.054\n",
      "mood                     0.2435      0.040      6.018      0.000       0.164       0.323\n",
      "circumplex.valence      -0.0613      0.058     -1.053      0.293      -0.176       0.053\n",
      "appCat.social           -0.0117      0.028     -0.417      0.677      -0.067       0.043\n",
      "sms                     -0.0091      0.009     -1.006      0.314      -0.027       0.009\n",
      "appCat.game              0.0054      0.033      0.162      0.871      -0.060       0.071\n",
      "appCat.finance          -0.0071      0.021     -0.338      0.735      -0.049       0.034\n",
      "appCat.weather           0.0186      0.018      1.055      0.291      -0.016       0.053\n",
      "circumplex.arousal       0.0208      0.031      0.667      0.505      -0.040       0.082\n",
      "appCat.travel            0.0159      0.018      0.888      0.375      -0.019       0.051\n",
      "appCat.office            0.0407      0.030      1.375      0.169      -0.017       0.099\n",
      "appCat.other            -0.0149      0.022     -0.664      0.506      -0.059       0.029\n",
      "screen                  -0.0991      0.049     -2.023      0.043      -0.195      -0.003\n",
      "wake_up                 -0.0012      0.004     -0.286      0.775      -0.010       0.007\n",
      "sleep                    0.0027      0.006      0.454      0.650      -0.009       0.014\n",
      "week_day                 0.0119      0.011      1.106      0.269      -0.009       0.033\n",
      "week_mood                0.4615      0.043     10.856      0.000       0.378       0.545\n",
      "ar.L1                   -0.9676      0.092    -10.573      0.000      -1.147      -0.788\n",
      "ma.L1                    0.0164      0.097      0.170      0.865      -0.173       0.206\n",
      "ma.L2                   -0.9578      0.095    -10.135      0.000      -1.143      -0.773\n",
      "ma.L3                   -0.0458      0.032     -1.425      0.154      -0.109       0.017\n",
      "sigma2                   0.3756      0.011     35.050      0.000       0.355       0.397\n",
      "===================================================================================\n",
      "Ljung-Box (L1) (Q):                   0.01   Jarque-Bera (JB):               560.27\n",
      "Prob(Q):                              0.93   Prob(JB):                         0.00\n",
      "Heteroskedasticity (H):               0.97   Skew:                            -0.59\n",
      "Prob(H) (two-sided):                  0.79   Kurtosis:                         6.11\n",
      "===================================================================================\n",
      "\n",
      "Warnings:\n",
      "[1] Covariance matrix calculated using the outer product of gradients (complex-step).\n",
      "Forecasted mood: 1216    7.081581\n",
      "1217    7.042201\n",
      "1218    7.011064\n",
      "1219    7.116517\n",
      "1220    7.303902\n",
      "Name: predicted_mean, dtype: float64 [7, 7, 7, 7, 7]\n"
     ]
    },
    {
     "name": "stderr",
     "output_type": "stream",
     "text": [
      "C:\\Users\\manya\\anaconda3\\Lib\\site-packages\\statsmodels\\base\\model.py:607: ConvergenceWarning: Maximum Likelihood optimization failed to converge. Check mle_retvals\n",
      "  warnings.warn(\"Maximum Likelihood optimization failed to \"\n",
      "C:\\Users\\manya\\anaconda3\\Lib\\site-packages\\statsmodels\\tsa\\base\\tsa_model.py:836: ValueWarning: No supported index is available. Prediction results will be given with an integer index beginning at `start`.\n",
      "  return get_prediction_index(\n",
      "C:\\Users\\manya\\anaconda3\\Lib\\site-packages\\statsmodels\\tsa\\base\\tsa_model.py:836: FutureWarning: No supported index is available. In the next version, calling this method in a model without a supported index will result in an exception.\n",
      "  return get_prediction_index(\n"
     ]
    }
   ],
   "source": [
    "df = pd.read_csv(file_path)\n",
    "df['day'] = pd.to_datetime(df['day'])\n",
    "df = df.set_index('day')\n",
    "df = df.sort_index()\n",
    "\n",
    "target = df['target']\n",
    "variables = ['appCat.builtin', 'appCat.communication', 'activity',\n",
    "             'appCat.utilities', 'appCat.entertainment', 'call',\n",
    "             'appCat.unknown', 'mood', 'circumplex.valence', 'appCat.social',\n",
    "             'sms', 'appCat.game', 'appCat.finance', 'appCat.weather',\n",
    "             'circumplex.arousal', 'appCat.travel', 'appCat.office',\n",
    "             'appCat.other', 'screen', 'wake_up', 'sleep', 'week_day', 'week_mood']\n",
    "X = df[variables]\n",
    "general_model = SARIMAX(endog=target, exog=X, order=(1, 1,3))\n",
    "results = general_model.fit()\n",
    "print(results.summary())\n",
    "\n",
    "last_data = X.tail(5)\n",
    "forecast = results.forecast(steps=5, exog=last_data)\n",
    "cor_mood = corrected_mood(forecast)\n",
    "print(\"Forecasted mood:\", forecast, cor_mood)"
   ]
  },
  {
   "cell_type": "markdown",
   "id": "0b3b10a6-d9a1-4864-a8b4-7aa24908d3a6",
   "metadata": {},
   "source": [
    "### MINIMIZE AIC"
   ]
  },
  {
   "cell_type": "code",
   "execution_count": 69,
   "id": "952208f1-9d2e-49df-8df1-e8a5f8d95579",
   "metadata": {},
   "outputs": [],
   "source": [
    "df = pd.read_csv(file_path)\n",
    "df['day'] = pd.to_datetime(df['day'])\n",
    "df = df.set_index('day')\n",
    "df = df.sort_index()"
   ]
  },
  {
   "cell_type": "code",
   "execution_count": 70,
   "id": "78a1c365-1777-4f82-833d-a418b817fa42",
   "metadata": {},
   "outputs": [],
   "source": [
    "target = df['target']\n",
    "variables = ['appCat.builtin', 'appCat.communication', 'activity',\n",
    "             'appCat.utilities', 'appCat.entertainment', 'call',\n",
    "             'appCat.unknown', 'mood', 'circumplex.valence', 'appCat.social',\n",
    "             'sms', 'appCat.game', 'appCat.finance', 'appCat.weather',\n",
    "             'circumplex.arousal', 'appCat.travel', 'appCat.office',\n",
    "             'appCat.other', 'screen', 'wake_up', 'sleep', 'week_day', 'week_mood']\n",
    "X = df[variables]"
   ]
  },
  {
   "cell_type": "code",
   "execution_count": 71,
   "id": "35ad68a3-d6bc-469d-b134-22f37ef4e753",
   "metadata": {},
   "outputs": [
    {
     "name": "stdout",
     "output_type": "stream",
     "text": [
      "Performing stepwise search to minimize aic\n",
      " ARIMA(2,0,2)(0,0,0)[0]             : AIC=inf, Time=0.55 sec\n",
      " ARIMA(0,0,0)(0,0,0)[0]             : AIC=8194.224, Time=0.02 sec\n",
      " ARIMA(1,0,0)(0,0,0)[0]             : AIC=3481.516, Time=0.03 sec\n",
      " ARIMA(0,0,1)(0,0,0)[0]             : AIC=6850.471, Time=0.08 sec\n",
      " ARIMA(2,0,0)(0,0,0)[0]             : AIC=inf, Time=0.06 sec\n",
      " ARIMA(1,0,1)(0,0,0)[0]             : AIC=2714.703, Time=0.36 sec\n",
      " ARIMA(2,0,1)(0,0,0)[0]             : AIC=inf, Time=0.47 sec\n",
      " ARIMA(1,0,2)(0,0,0)[0]             : AIC=inf, Time=0.56 sec\n",
      " ARIMA(0,0,2)(0,0,0)[0]             : AIC=5933.805, Time=0.15 sec\n",
      " ARIMA(1,0,1)(0,0,0)[0] intercept   : AIC=2699.975, Time=1.00 sec\n",
      " ARIMA(0,0,1)(0,0,0)[0] intercept   : AIC=2700.385, Time=0.11 sec\n",
      " ARIMA(1,0,0)(0,0,0)[0] intercept   : AIC=2700.137, Time=0.06 sec\n",
      " ARIMA(2,0,1)(0,0,0)[0] intercept   : AIC=2701.518, Time=0.37 sec\n",
      " ARIMA(1,0,2)(0,0,0)[0] intercept   : AIC=2701.812, Time=0.29 sec\n",
      " ARIMA(0,0,0)(0,0,0)[0] intercept   : AIC=2700.965, Time=0.09 sec\n",
      " ARIMA(0,0,2)(0,0,0)[0] intercept   : AIC=2699.594, Time=0.16 sec\n",
      " ARIMA(0,0,3)(0,0,0)[0] intercept   : AIC=2701.119, Time=0.19 sec\n",
      " ARIMA(1,0,3)(0,0,0)[0] intercept   : AIC=2703.401, Time=0.27 sec\n",
      "\n",
      "Best model:  ARIMA(0,0,2)(0,0,0)[0] intercept\n",
      "Total fit time: 4.869 seconds\n",
      "                               SARIMAX Results                                \n",
      "==============================================================================\n",
      "Dep. Variable:                      y   No. Observations:                 1216\n",
      "Model:               SARIMAX(0, 0, 2)   Log Likelihood               -1345.797\n",
      "Date:                Sat, 19 Apr 2025   AIC                           2699.594\n",
      "Time:                        19:05:11   BIC                           2720.007\n",
      "Sample:                             0   HQIC                          2707.278\n",
      "                               - 1216                                         \n",
      "Covariance Type:                  opg                                         \n",
      "==============================================================================\n",
      "                 coef    std err          z      P>|z|      [0.025      0.975]\n",
      "------------------------------------------------------------------------------\n",
      "intercept      6.9873      0.025    280.770      0.000       6.939       7.036\n",
      "ma.L1          0.0478      0.032      1.501      0.133      -0.015       0.110\n",
      "ma.L2          0.0461      0.031      1.475      0.140      -0.015       0.107\n",
      "sigma2         0.5356      0.015     34.643      0.000       0.505       0.566\n",
      "===================================================================================\n",
      "Ljung-Box (L1) (Q):                   0.00   Jarque-Bera (JB):               508.34\n",
      "Prob(Q):                              0.98   Prob(JB):                         0.00\n",
      "Heteroskedasticity (H):               1.05   Skew:                            -0.83\n",
      "Prob(H) (two-sided):                  0.63   Kurtosis:                         5.70\n",
      "===================================================================================\n",
      "\n",
      "Warnings:\n",
      "[1] Covariance matrix calculated using the outer product of gradients (complex-step).\n"
     ]
    }
   ],
   "source": [
    "model = auto_arima(target, exogenous=X, seasonal=False, trace=True, error_action='ignore', suppress_warnings=True)\n",
    "print(model.summary())"
   ]
  },
  {
   "cell_type": "markdown",
   "id": "d4820bba-40b5-449c-bc42-0adf0490eecd",
   "metadata": {},
   "source": [
    "### FORECAST RESULTS"
   ]
  },
  {
   "cell_type": "code",
   "execution_count": 74,
   "id": "4ec487dc-bfd9-487f-aeeb-254317afa4af",
   "metadata": {},
   "outputs": [
    {
     "name": "stdout",
     "output_type": "stream",
     "text": [
      "Forecasted mood: 1216    7.081581\n",
      "1217    7.042201\n",
      "1218    7.011064\n",
      "1219    7.116517\n",
      "1220    7.303902\n",
      "Name: predicted_mean, dtype: float64 [7, 7, 7, 7, 7]\n"
     ]
    },
    {
     "name": "stderr",
     "output_type": "stream",
     "text": [
      "C:\\Users\\manya\\anaconda3\\Lib\\site-packages\\statsmodels\\tsa\\base\\tsa_model.py:836: ValueWarning: No supported index is available. Prediction results will be given with an integer index beginning at `start`.\n",
      "  return get_prediction_index(\n",
      "C:\\Users\\manya\\anaconda3\\Lib\\site-packages\\statsmodels\\tsa\\base\\tsa_model.py:836: FutureWarning: No supported index is available. In the next version, calling this method in a model without a supported index will result in an exception.\n",
      "  return get_prediction_index(\n"
     ]
    }
   ],
   "source": [
    "last_data = X.tail(5)\n",
    "forecast = results.forecast(steps=5, exog=last_data)\n",
    "cor_mood = corrected_mood(forecast)\n",
    "print(\"Forecasted mood:\", forecast, cor_mood)"
   ]
  },
  {
   "cell_type": "markdown",
   "id": "566b88f3-d753-4a26-b899-1ef1caa1b6ef",
   "metadata": {},
   "source": [
    "## TRAIN AND TEST SPLIT RESULTS"
   ]
  },
  {
   "cell_type": "code",
   "execution_count": 142,
   "id": "bd20b122-897c-4560-bfdc-865dacf45f1f",
   "metadata": {},
   "outputs": [],
   "source": [
    "file_path =  \"./final with standardization/features_regression.csv\"\n",
    "df = pd.read_csv(file_path)"
   ]
  },
  {
   "cell_type": "code",
   "execution_count": 144,
   "id": "0010d79a-8116-463d-82e1-c49e7b0c909f",
   "metadata": {},
   "outputs": [],
   "source": [
    "df = pd.read_csv(file_path)\n",
    "df['day'] = pd.to_datetime(df['day'])\n",
    "df = df.set_index('day')\n",
    "df = df.sort_index()"
   ]
  },
  {
   "cell_type": "code",
   "execution_count": 146,
   "id": "48fe231f-d61d-46f6-ae62-97367dd7ef17",
   "metadata": {},
   "outputs": [],
   "source": [
    "target = df['target']\n",
    "variables = ['appCat.builtin', 'appCat.communication', 'activity',\n",
    "            'appCat.utilities', 'appCat.entertainment', 'call',\n",
    "            'appCat.unknown', 'mood', 'circumplex.valence', 'appCat.social',\n",
    "            'sms', 'appCat.game', 'appCat.finance', 'appCat.weather',\n",
    "            'circumplex.arousal', 'appCat.travel', 'appCat.office',\n",
    "            'appCat.other', 'screen', 'wake_up', 'sleep', 'week_day', 'week_mood']\n",
    "X = df[variables]\n",
    "\n",
    "features_train, features_leftover, target_train, target_leftover = train_test_split(X, target, test_size=0.3, shuffle=False, random_state=42)\n",
    "features_valid, features_test, target_dev, target_dev = train_test_split(features_leftover, target_leftover, test_size=0.5, shuffle=False, random_state=42)"
   ]
  },
  {
   "cell_type": "code",
   "execution_count": 182,
   "id": "5ed4a743-ab58-4d52-b034-e07cc0f71c16",
   "metadata": {},
   "outputs": [
    {
     "name": "stderr",
     "output_type": "stream",
     "text": [
      "C:\\Users\\manya\\anaconda3\\Lib\\site-packages\\statsmodels\\tsa\\base\\tsa_model.py:473: ValueWarning: A date index has been provided, but it has no associated frequency information and so will be ignored when e.g. forecasting.\n",
      "  self._init_dates(dates, freq)\n",
      "C:\\Users\\manya\\anaconda3\\Lib\\site-packages\\statsmodels\\tsa\\base\\tsa_model.py:473: ValueWarning: A date index has been provided, but it has no associated frequency information and so will be ignored when e.g. forecasting.\n",
      "  self._init_dates(dates, freq)\n"
     ]
    },
    {
     "name": "stdout",
     "output_type": "stream",
     "text": [
      "                               SARIMAX Results                                \n",
      "==============================================================================\n",
      "Dep. Variable:                 target   No. Observations:                  851\n",
      "Model:               SARIMAX(1, 1, 1)   Log Likelihood                -793.325\n",
      "Date:                Sat, 19 Apr 2025   AIC                           1638.651\n",
      "Time:                        20:01:19   BIC                           1762.027\n",
      "Sample:                             0   HQIC                          1685.910\n",
      "                                - 851                                         \n",
      "Covariance Type:                  opg                                         \n",
      "========================================================================================\n",
      "                           coef    std err          z      P>|z|      [0.025      0.975]\n",
      "----------------------------------------------------------------------------------------\n",
      "appCat.builtin           0.0339      0.030      1.132      0.258      -0.025       0.093\n",
      "appCat.communication     0.0760      0.038      2.007      0.045       0.002       0.150\n",
      "activity                -0.3433      0.266     -1.288      0.198      -0.866       0.179\n",
      "appCat.utilities         0.0540      0.025      2.136      0.033       0.004       0.104\n",
      "appCat.entertainment     0.0684      0.029      2.359      0.018       0.012       0.125\n",
      "call                    -0.0033      0.008     -0.390      0.697      -0.020       0.013\n",
      "appCat.unknown           0.0063      0.037      0.170      0.865      -0.067       0.079\n",
      "mood                     0.2244      0.053      4.260      0.000       0.121       0.328\n",
      "circumplex.valence      -0.0293      0.070     -0.418      0.676      -0.167       0.108\n",
      "appCat.social           -0.0064      0.037     -0.172      0.863      -0.079       0.066\n",
      "sms                     -0.0037      0.010     -0.365      0.715      -0.023       0.016\n",
      "appCat.game              0.0219      0.038      0.578      0.563      -0.052       0.096\n",
      "appCat.finance          -0.0362      0.033     -1.091      0.275      -0.101       0.029\n",
      "appCat.weather           0.0181      0.032      0.575      0.565      -0.044       0.080\n",
      "circumplex.arousal       0.0356      0.037      0.961      0.336      -0.037       0.108\n",
      "appCat.travel            0.0290      0.020      1.451      0.147      -0.010       0.068\n",
      "appCat.office            0.0618      0.038      1.641      0.101      -0.012       0.136\n",
      "appCat.other            -0.0021      0.025     -0.084      0.933      -0.051       0.047\n",
      "screen                  -0.1378      0.061     -2.275      0.023      -0.257      -0.019\n",
      "wake_up                 -0.0030      0.005     -0.596      0.551      -0.013       0.007\n",
      "sleep                    0.0061      0.010      0.638      0.523      -0.013       0.025\n",
      "week_day                 0.0051      0.013      0.393      0.695      -0.020       0.031\n",
      "week_mood                0.4502      0.053      8.522      0.000       0.347       0.554\n",
      "ar.L1                    0.0376      0.040      0.933      0.351      -0.041       0.116\n",
      "ma.L1                   -0.9936      0.007   -134.569      0.000      -1.008      -0.979\n",
      "sigma2                   0.3771      0.013     28.769      0.000       0.351       0.403\n",
      "===================================================================================\n",
      "Ljung-Box (L1) (Q):                   0.00   Jarque-Bera (JB):               510.22\n",
      "Prob(Q):                              0.95   Prob(JB):                         0.00\n",
      "Heteroskedasticity (H):               1.03   Skew:                            -0.81\n",
      "Prob(H) (two-sided):                  0.80   Kurtosis:                         6.43\n",
      "===================================================================================\n",
      "\n",
      "Warnings:\n",
      "[1] Covariance matrix calculated using the outer product of gradients (complex-step).\n",
      "Dev MSE: 0.4051685445968527\n",
      "Dev MAE: 0.47143110575472735\n",
      "Forecasted mood: 851    7.162888\n",
      "852    7.061115\n",
      "853    7.036490\n",
      "854    7.091508\n",
      "855    7.264362\n",
      "Name: predicted_mean, dtype: float64 [7, 7, 7, 7, 7]\n"
     ]
    },
    {
     "name": "stderr",
     "output_type": "stream",
     "text": [
      "C:\\Users\\manya\\anaconda3\\Lib\\site-packages\\statsmodels\\base\\model.py:607: ConvergenceWarning: Maximum Likelihood optimization failed to converge. Check mle_retvals\n",
      "  warnings.warn(\"Maximum Likelihood optimization failed to \"\n",
      "C:\\Users\\manya\\anaconda3\\Lib\\site-packages\\statsmodels\\tsa\\base\\tsa_model.py:836: ValueWarning: No supported index is available. Prediction results will be given with an integer index beginning at `start`.\n",
      "  return get_prediction_index(\n",
      "C:\\Users\\manya\\anaconda3\\Lib\\site-packages\\statsmodels\\tsa\\base\\tsa_model.py:836: FutureWarning: No supported index is available. In the next version, calling this method in a model without a supported index will result in an exception.\n",
      "  return get_prediction_index(\n",
      "C:\\Users\\manya\\anaconda3\\Lib\\site-packages\\statsmodels\\tsa\\base\\tsa_model.py:836: ValueWarning: No supported index is available. Prediction results will be given with an integer index beginning at `start`.\n",
      "  return get_prediction_index(\n",
      "C:\\Users\\manya\\anaconda3\\Lib\\site-packages\\statsmodels\\tsa\\base\\tsa_model.py:836: FutureWarning: No supported index is available. In the next version, calling this method in a model without a supported index will result in an exception.\n",
      "  return get_prediction_index(\n"
     ]
    }
   ],
   "source": [
    "model = SARIMAX(endog=target_train, exog=features_train, order=(1, 1, 1))\n",
    "results = model.fit()\n",
    "\n",
    "dev_predictions = results.forecast(steps=len(target_valid), exog=features_valid)\n",
    "\n",
    "dev_mse = mean_squared_error(target_valid, dev_predictions)\n",
    "dev_mae = mean_absolute_error(target_valid, dev_predictions)\n",
    "\n",
    "print(results.summary())\n",
    "print(f\"Dev MSE: {dev_mse}\")\n",
    "print(f\"Dev MAE: {dev_mae}\")\n",
    "\n",
    "last_data = X.tail(5)\n",
    "forecast = results.forecast(steps=5, exog=last_data)\n",
    "cor_mood = corrected_mood(forecast)\n",
    "print(\"Forecasted mood:\", forecast, cor_mood)"
   ]
  },
  {
   "cell_type": "markdown",
   "id": "dc39e981-e95f-43d4-a45a-75c33207b93a",
   "metadata": {},
   "source": [
    "### (0,0,0) model"
   ]
  },
  {
   "cell_type": "code",
   "execution_count": 184,
   "id": "b5d997c1-2876-4a8e-8df2-a9ff71188901",
   "metadata": {},
   "outputs": [
    {
     "name": "stderr",
     "output_type": "stream",
     "text": [
      "C:\\Users\\manya\\anaconda3\\Lib\\site-packages\\statsmodels\\tsa\\base\\tsa_model.py:473: ValueWarning: A date index has been provided, but it has no associated frequency information and so will be ignored when e.g. forecasting.\n",
      "  self._init_dates(dates, freq)\n",
      "C:\\Users\\manya\\anaconda3\\Lib\\site-packages\\statsmodels\\tsa\\base\\tsa_model.py:473: ValueWarning: A date index has been provided, but it has no associated frequency information and so will be ignored when e.g. forecasting.\n",
      "  self._init_dates(dates, freq)\n"
     ]
    },
    {
     "name": "stdout",
     "output_type": "stream",
     "text": [
      "                               SARIMAX Results                                \n",
      "==============================================================================\n",
      "Dep. Variable:                 target   No. Observations:                  851\n",
      "Model:                        SARIMAX   Log Likelihood                -807.405\n",
      "Date:                Sat, 19 Apr 2025   AIC                           1662.810\n",
      "Time:                        20:02:43   BIC                           1776.724\n",
      "Sample:                             0   HQIC                          1706.442\n",
      "                                - 851                                         \n",
      "Covariance Type:                  opg                                         \n",
      "========================================================================================\n",
      "                           coef    std err          z      P>|z|      [0.025      0.975]\n",
      "----------------------------------------------------------------------------------------\n",
      "appCat.builtin           0.0340      0.031      1.108      0.268      -0.026       0.094\n",
      "appCat.communication     0.0601      0.039      1.524      0.127      -0.017       0.137\n",
      "activity                -0.0859      0.266     -0.322      0.747      -0.608       0.436\n",
      "appCat.utilities         0.0533      0.027      2.004      0.045       0.001       0.105\n",
      "appCat.entertainment     0.0381      0.030      1.284      0.199      -0.020       0.096\n",
      "call                    -0.0056      0.008     -0.672      0.502      -0.022       0.011\n",
      "appCat.unknown           0.0061      0.040      0.153      0.878      -0.073       0.085\n",
      "mood                     0.2730      0.051      5.375      0.000       0.173       0.373\n",
      "circumplex.valence      -0.1247      0.067     -1.865      0.062      -0.256       0.006\n",
      "appCat.social           -0.0260      0.039     -0.667      0.505      -0.102       0.050\n",
      "sms                     -0.0002      0.010     -0.019      0.985      -0.020       0.020\n",
      "appCat.game              0.0092      0.036      0.258      0.797      -0.061       0.079\n",
      "appCat.finance          -0.0288      0.034     -0.849      0.396      -0.095       0.038\n",
      "appCat.weather          -0.0013      0.033     -0.039      0.969      -0.066       0.064\n",
      "circumplex.arousal       0.0141      0.036      0.390      0.696      -0.057       0.085\n",
      "appCat.travel            0.0246      0.022      1.126      0.260      -0.018       0.068\n",
      "appCat.office            0.0344      0.048      0.717      0.473      -0.060       0.129\n",
      "appCat.other            -0.0184      0.026     -0.700      0.484      -0.070       0.033\n",
      "screen                  -0.1092      0.064     -1.705      0.088      -0.235       0.016\n",
      "wake_up                  0.0006      0.005      0.114      0.909      -0.009       0.010\n",
      "sleep                    0.0324      0.008      4.258      0.000       0.017       0.047\n",
      "week_day                 0.0086      0.012      0.724      0.469      -0.015       0.032\n",
      "week_mood                0.6350      0.047     13.525      0.000       0.543       0.727\n",
      "sigma2                   0.3905      0.014     28.038      0.000       0.363       0.418\n",
      "===================================================================================\n",
      "Ljung-Box (L1) (Q):                   1.30   Jarque-Bera (JB):               331.77\n",
      "Prob(Q):                              0.25   Prob(JB):                         0.00\n",
      "Heteroskedasticity (H):               0.97   Skew:                            -0.63\n",
      "Prob(H) (two-sided):                  0.82   Kurtosis:                         5.79\n",
      "===================================================================================\n",
      "\n",
      "Warnings:\n",
      "[1] Covariance matrix calculated using the outer product of gradients (complex-step).\n",
      "Dev MSE: 0.4059718618654861\n",
      "Dev MAE: 0.46335526558988793\n",
      "Forecasted mood: 851    7.184479\n",
      "852    6.903988\n",
      "853    7.031388\n",
      "854    7.186106\n",
      "855    7.458829\n",
      "Name: predicted_mean, dtype: float64 [7, 7, 7, 7, 7]\n"
     ]
    },
    {
     "name": "stderr",
     "output_type": "stream",
     "text": [
      "C:\\Users\\manya\\anaconda3\\Lib\\site-packages\\statsmodels\\tsa\\base\\tsa_model.py:836: ValueWarning: No supported index is available. Prediction results will be given with an integer index beginning at `start`.\n",
      "  return get_prediction_index(\n",
      "C:\\Users\\manya\\anaconda3\\Lib\\site-packages\\statsmodels\\tsa\\base\\tsa_model.py:836: FutureWarning: No supported index is available. In the next version, calling this method in a model without a supported index will result in an exception.\n",
      "  return get_prediction_index(\n",
      "C:\\Users\\manya\\anaconda3\\Lib\\site-packages\\statsmodels\\tsa\\base\\tsa_model.py:836: ValueWarning: No supported index is available. Prediction results will be given with an integer index beginning at `start`.\n",
      "  return get_prediction_index(\n",
      "C:\\Users\\manya\\anaconda3\\Lib\\site-packages\\statsmodels\\tsa\\base\\tsa_model.py:836: FutureWarning: No supported index is available. In the next version, calling this method in a model without a supported index will result in an exception.\n",
      "  return get_prediction_index(\n"
     ]
    }
   ],
   "source": [
    "model = SARIMAX(endog=y_train, exog=X_train, order=(0, 0, 0))\n",
    "results = model.fit()\n",
    "\n",
    "dev_predictions = results.forecast(steps=len(target_valid), exog=features_valid)\n",
    "\n",
    "dev_mse = mean_squared_error(target_valid, dev_predictions)\n",
    "dev_mae = mean_absolute_error(target_valid, dev_predictions)\n",
    "\n",
    "print(results.summary())\n",
    "print(f\"Dev MSE: {dev_mse}\")\n",
    "print(f\"Dev MAE: {dev_mae}\")\n",
    "\n",
    "last_data = X.tail(5)\n",
    "forecast = results.forecast(steps=5, exog=last_data)\n",
    "cor_mood = corrected_mood(forecast)\n",
    "print(\"Forecasted mood:\", forecast, cor_mood)"
   ]
  },
  {
   "cell_type": "markdown",
   "id": "e3da0756-db21-4f35-9593-f30a80c2bd26",
   "metadata": {},
   "source": [
    "### (1,1,1) model"
   ]
  },
  {
   "cell_type": "code",
   "execution_count": 186,
   "id": "d5dbc3bd-745f-4900-9a80-3b4e9914398c",
   "metadata": {},
   "outputs": [
    {
     "name": "stderr",
     "output_type": "stream",
     "text": [
      "C:\\Users\\manya\\anaconda3\\Lib\\site-packages\\statsmodels\\tsa\\base\\tsa_model.py:473: ValueWarning: A date index has been provided, but it has no associated frequency information and so will be ignored when e.g. forecasting.\n",
      "  self._init_dates(dates, freq)\n",
      "C:\\Users\\manya\\anaconda3\\Lib\\site-packages\\statsmodels\\tsa\\base\\tsa_model.py:473: ValueWarning: A date index has been provided, but it has no associated frequency information and so will be ignored when e.g. forecasting.\n",
      "  self._init_dates(dates, freq)\n"
     ]
    },
    {
     "name": "stdout",
     "output_type": "stream",
     "text": [
      "                               SARIMAX Results                                \n",
      "==============================================================================\n",
      "Dep. Variable:                 target   No. Observations:                  851\n",
      "Model:               SARIMAX(1, 1, 1)   Log Likelihood                -793.325\n",
      "Date:                Sat, 19 Apr 2025   AIC                           1638.651\n",
      "Time:                        20:03:04   BIC                           1762.027\n",
      "Sample:                             0   HQIC                          1685.910\n",
      "                                - 851                                         \n",
      "Covariance Type:                  opg                                         \n",
      "========================================================================================\n",
      "                           coef    std err          z      P>|z|      [0.025      0.975]\n",
      "----------------------------------------------------------------------------------------\n",
      "appCat.builtin           0.0339      0.030      1.132      0.258      -0.025       0.093\n",
      "appCat.communication     0.0760      0.038      2.007      0.045       0.002       0.150\n",
      "activity                -0.3433      0.266     -1.288      0.198      -0.866       0.179\n",
      "appCat.utilities         0.0540      0.025      2.136      0.033       0.004       0.104\n",
      "appCat.entertainment     0.0684      0.029      2.359      0.018       0.012       0.125\n",
      "call                    -0.0033      0.008     -0.390      0.697      -0.020       0.013\n",
      "appCat.unknown           0.0063      0.037      0.170      0.865      -0.067       0.079\n",
      "mood                     0.2244      0.053      4.260      0.000       0.121       0.328\n",
      "circumplex.valence      -0.0293      0.070     -0.418      0.676      -0.167       0.108\n",
      "appCat.social           -0.0064      0.037     -0.172      0.863      -0.079       0.066\n",
      "sms                     -0.0037      0.010     -0.365      0.715      -0.023       0.016\n",
      "appCat.game              0.0219      0.038      0.578      0.563      -0.052       0.096\n",
      "appCat.finance          -0.0362      0.033     -1.091      0.275      -0.101       0.029\n",
      "appCat.weather           0.0181      0.032      0.575      0.565      -0.044       0.080\n",
      "circumplex.arousal       0.0356      0.037      0.961      0.336      -0.037       0.108\n",
      "appCat.travel            0.0290      0.020      1.451      0.147      -0.010       0.068\n",
      "appCat.office            0.0618      0.038      1.641      0.101      -0.012       0.136\n",
      "appCat.other            -0.0021      0.025     -0.084      0.933      -0.051       0.047\n",
      "screen                  -0.1378      0.061     -2.275      0.023      -0.257      -0.019\n",
      "wake_up                 -0.0030      0.005     -0.596      0.551      -0.013       0.007\n",
      "sleep                    0.0061      0.010      0.638      0.523      -0.013       0.025\n",
      "week_day                 0.0051      0.013      0.393      0.695      -0.020       0.031\n",
      "week_mood                0.4502      0.053      8.522      0.000       0.347       0.554\n",
      "ar.L1                    0.0376      0.040      0.933      0.351      -0.041       0.116\n",
      "ma.L1                   -0.9936      0.007   -134.569      0.000      -1.008      -0.979\n",
      "sigma2                   0.3771      0.013     28.769      0.000       0.351       0.403\n",
      "===================================================================================\n",
      "Ljung-Box (L1) (Q):                   0.00   Jarque-Bera (JB):               510.22\n",
      "Prob(Q):                              0.95   Prob(JB):                         0.00\n",
      "Heteroskedasticity (H):               1.03   Skew:                            -0.81\n",
      "Prob(H) (two-sided):                  0.80   Kurtosis:                         6.43\n",
      "===================================================================================\n",
      "\n",
      "Warnings:\n",
      "[1] Covariance matrix calculated using the outer product of gradients (complex-step).\n",
      "Dev MSE: 0.4051685445968527\n",
      "Dev MAE: 0.47143110575472735\n",
      "Forecasted mood: 851    7.162888\n",
      "852    7.061115\n",
      "853    7.036490\n",
      "854    7.091508\n",
      "855    7.264362\n",
      "Name: predicted_mean, dtype: float64 [7, 7, 7, 7, 7]\n"
     ]
    },
    {
     "name": "stderr",
     "output_type": "stream",
     "text": [
      "C:\\Users\\manya\\anaconda3\\Lib\\site-packages\\statsmodels\\base\\model.py:607: ConvergenceWarning: Maximum Likelihood optimization failed to converge. Check mle_retvals\n",
      "  warnings.warn(\"Maximum Likelihood optimization failed to \"\n",
      "C:\\Users\\manya\\anaconda3\\Lib\\site-packages\\statsmodels\\tsa\\base\\tsa_model.py:836: ValueWarning: No supported index is available. Prediction results will be given with an integer index beginning at `start`.\n",
      "  return get_prediction_index(\n",
      "C:\\Users\\manya\\anaconda3\\Lib\\site-packages\\statsmodels\\tsa\\base\\tsa_model.py:836: FutureWarning: No supported index is available. In the next version, calling this method in a model without a supported index will result in an exception.\n",
      "  return get_prediction_index(\n",
      "C:\\Users\\manya\\anaconda3\\Lib\\site-packages\\statsmodels\\tsa\\base\\tsa_model.py:836: ValueWarning: No supported index is available. Prediction results will be given with an integer index beginning at `start`.\n",
      "  return get_prediction_index(\n",
      "C:\\Users\\manya\\anaconda3\\Lib\\site-packages\\statsmodels\\tsa\\base\\tsa_model.py:836: FutureWarning: No supported index is available. In the next version, calling this method in a model without a supported index will result in an exception.\n",
      "  return get_prediction_index(\n"
     ]
    }
   ],
   "source": [
    "model = SARIMAX(endog=y_train, exog=X_train, order=(1, 1, 1))\n",
    "results = model.fit()\n",
    "\n",
    "dev_predictions = results.forecast(steps=len(target_valid), exog=features_valid)\n",
    "\n",
    "dev_mse = mean_squared_error(target_valid, dev_predictions)\n",
    "dev_mae = mean_absolute_error(target_valid, dev_predictions)\n",
    "\n",
    "print(results.summary())\n",
    "print(f\"Dev MSE: {dev_mse}\")\n",
    "print(f\"Dev MAE: {dev_mae}\")\n",
    "\n",
    "last_data = X.tail(5)\n",
    "forecast = results.forecast(steps=5, exog=last_data)\n",
    "cor_mood = corrected_mood(forecast)\n",
    "print(\"Forecasted mood:\", forecast, cor_mood)"
   ]
  },
  {
   "cell_type": "markdown",
   "id": "4d6e61e3-851d-4f52-8649-16fd412f32ba",
   "metadata": {},
   "source": [
    "### (1,1,1) on test set"
   ]
  },
  {
   "cell_type": "code",
   "execution_count": 194,
   "id": "4aeb1558-08a5-4772-b62d-af4489d5dcdb",
   "metadata": {},
   "outputs": [
    {
     "name": "stdout",
     "output_type": "stream",
     "text": [
      "                               SARIMAX Results                                \n",
      "==============================================================================\n",
      "Dep. Variable:                 target   No. Observations:                  851\n",
      "Model:               SARIMAX(1, 1, 1)   Log Likelihood                -793.325\n",
      "Date:                Sat, 19 Apr 2025   AIC                           1638.651\n",
      "Time:                        20:04:54   BIC                           1762.027\n",
      "Sample:                             0   HQIC                          1685.910\n",
      "                                - 851                                         \n",
      "Covariance Type:                  opg                                         \n",
      "========================================================================================\n",
      "                           coef    std err          z      P>|z|      [0.025      0.975]\n",
      "----------------------------------------------------------------------------------------\n",
      "appCat.builtin           0.0339      0.030      1.132      0.258      -0.025       0.093\n",
      "appCat.communication     0.0760      0.038      2.007      0.045       0.002       0.150\n",
      "activity                -0.3433      0.266     -1.288      0.198      -0.866       0.179\n",
      "appCat.utilities         0.0540      0.025      2.136      0.033       0.004       0.104\n",
      "appCat.entertainment     0.0684      0.029      2.359      0.018       0.012       0.125\n",
      "call                    -0.0033      0.008     -0.390      0.697      -0.020       0.013\n",
      "appCat.unknown           0.0063      0.037      0.170      0.865      -0.067       0.079\n",
      "mood                     0.2244      0.053      4.260      0.000       0.121       0.328\n",
      "circumplex.valence      -0.0293      0.070     -0.418      0.676      -0.167       0.108\n",
      "appCat.social           -0.0064      0.037     -0.172      0.863      -0.079       0.066\n",
      "sms                     -0.0037      0.010     -0.365      0.715      -0.023       0.016\n",
      "appCat.game              0.0219      0.038      0.578      0.563      -0.052       0.096\n",
      "appCat.finance          -0.0362      0.033     -1.091      0.275      -0.101       0.029\n",
      "appCat.weather           0.0181      0.032      0.575      0.565      -0.044       0.080\n",
      "circumplex.arousal       0.0356      0.037      0.961      0.336      -0.037       0.108\n",
      "appCat.travel            0.0290      0.020      1.451      0.147      -0.010       0.068\n",
      "appCat.office            0.0618      0.038      1.641      0.101      -0.012       0.136\n",
      "appCat.other            -0.0021      0.025     -0.084      0.933      -0.051       0.047\n",
      "screen                  -0.1378      0.061     -2.275      0.023      -0.257      -0.019\n",
      "wake_up                 -0.0030      0.005     -0.596      0.551      -0.013       0.007\n",
      "sleep                    0.0061      0.010      0.638      0.523      -0.013       0.025\n",
      "week_day                 0.0051      0.013      0.393      0.695      -0.020       0.031\n",
      "week_mood                0.4502      0.053      8.522      0.000       0.347       0.554\n",
      "ar.L1                    0.0376      0.040      0.933      0.351      -0.041       0.116\n",
      "ma.L1                   -0.9936      0.007   -134.569      0.000      -1.008      -0.979\n",
      "sigma2                   0.3771      0.013     28.769      0.000       0.351       0.403\n",
      "===================================================================================\n",
      "Ljung-Box (L1) (Q):                   0.00   Jarque-Bera (JB):               510.22\n",
      "Prob(Q):                              0.95   Prob(JB):                         0.00\n",
      "Heteroskedasticity (H):               1.03   Skew:                            -0.81\n",
      "Prob(H) (two-sided):                  0.80   Kurtosis:                         6.43\n",
      "===================================================================================\n",
      "\n",
      "Warnings:\n",
      "[1] Covariance matrix calculated using the outer product of gradients (complex-step).\n",
      "Mean Squared Error on Test Set: 0.3631508694805758\n",
      "Mean Absolute Error on Test Set: 0.44603442804374827\n",
      "Forecasted mood: 851    7.162888\n",
      "852    7.061115\n",
      "853    7.036490\n",
      "854    7.091508\n",
      "855    7.264362\n",
      "Name: predicted_mean, dtype: float64 [7, 7, 7, 7, 7]\n"
     ]
    },
    {
     "name": "stderr",
     "output_type": "stream",
     "text": [
      "C:\\Users\\manya\\anaconda3\\Lib\\site-packages\\statsmodels\\tsa\\base\\tsa_model.py:836: ValueWarning: No supported index is available. Prediction results will be given with an integer index beginning at `start`.\n",
      "  return get_prediction_index(\n",
      "C:\\Users\\manya\\anaconda3\\Lib\\site-packages\\statsmodels\\tsa\\base\\tsa_model.py:836: FutureWarning: No supported index is available. In the next version, calling this method in a model without a supported index will result in an exception.\n",
      "  return get_prediction_index(\n",
      "C:\\Users\\manya\\anaconda3\\Lib\\site-packages\\statsmodels\\tsa\\base\\tsa_model.py:836: ValueWarning: No supported index is available. Prediction results will be given with an integer index beginning at `start`.\n",
      "  return get_prediction_index(\n",
      "C:\\Users\\manya\\anaconda3\\Lib\\site-packages\\statsmodels\\tsa\\base\\tsa_model.py:836: FutureWarning: No supported index is available. In the next version, calling this method in a model without a supported index will result in an exception.\n",
      "  return get_prediction_index(\n"
     ]
    }
   ],
   "source": [
    "test_predictions = results.forecast(steps=len(target_test), exog=features_test)\n",
    "\n",
    "test_mse = mean_squared_error(target_test, test_predictions)\n",
    "test_mae = mean_absolute_error(target_test, test_predictions)\n",
    "\n",
    "print(results.summary())\n",
    "print(\"Mean Squared Error on Test Set:\", test_mse)\n",
    "print(\"Mean Absolute Error on Test Set:\", test_mae)\n",
    "\n",
    "last_data = X.tail(5)\n",
    "forecast = results.forecast(steps=5, exog=last_data)\n",
    "cor_mood = corrected_mood(forecast)\n",
    "print(\"Forecasted mood:\", forecast, cor_mood)"
   ]
  },
  {
   "cell_type": "code",
   "execution_count": 200,
   "id": "eac3254a-bccd-4b3d-90d3-655235c84142",
   "metadata": {},
   "outputs": [
    {
     "name": "stdout",
     "output_type": "stream",
     "text": [
      "R²: 0.20177768959139308\n"
     ]
    }
   ],
   "source": [
    "r2 = r2_score(target_test, test_predictions)\n",
    "print(\"R²:\", r2)"
   ]
  },
  {
   "cell_type": "markdown",
   "id": "f577a343-3c90-4b80-b540-3064613a64a4",
   "metadata": {},
   "source": [
    "### (1,0,3) model"
   ]
  },
  {
   "cell_type": "code",
   "execution_count": 202,
   "id": "b0ad003f-8e66-4dda-816a-ce4e6aa0cf49",
   "metadata": {},
   "outputs": [
    {
     "name": "stderr",
     "output_type": "stream",
     "text": [
      "C:\\Users\\manya\\anaconda3\\Lib\\site-packages\\statsmodels\\tsa\\base\\tsa_model.py:473: ValueWarning: A date index has been provided, but it has no associated frequency information and so will be ignored when e.g. forecasting.\n",
      "  self._init_dates(dates, freq)\n",
      "C:\\Users\\manya\\anaconda3\\Lib\\site-packages\\statsmodels\\tsa\\base\\tsa_model.py:473: ValueWarning: A date index has been provided, but it has no associated frequency information and so will be ignored when e.g. forecasting.\n",
      "  self._init_dates(dates, freq)\n"
     ]
    },
    {
     "name": "stdout",
     "output_type": "stream",
     "text": [
      "                               SARIMAX Results                                \n",
      "==============================================================================\n",
      "Dep. Variable:                 target   No. Observations:                  851\n",
      "Model:               SARIMAX(1, 0, 3)   Log Likelihood                -803.013\n",
      "Date:                Sat, 19 Apr 2025   AIC                           1662.025\n",
      "Time:                        20:05:32   BIC                           1794.925\n",
      "Sample:                             0   HQIC                          1712.930\n",
      "                                - 851                                         \n",
      "Covariance Type:                  opg                                         \n",
      "========================================================================================\n",
      "                           coef    std err          z      P>|z|      [0.025      0.975]\n",
      "----------------------------------------------------------------------------------------\n",
      "appCat.builtin           0.0371      0.031      1.208      0.227      -0.023       0.097\n",
      "appCat.communication     0.0598      0.039      1.550      0.121      -0.016       0.135\n",
      "activity                -0.0299      0.263     -0.114      0.909      -0.545       0.485\n",
      "appCat.utilities         0.0531      0.026      2.010      0.044       0.001       0.105\n",
      "appCat.entertainment     0.0373      0.030      1.245      0.213      -0.021       0.096\n",
      "call                    -0.0057      0.008     -0.688      0.492      -0.022       0.010\n",
      "appCat.unknown           0.0055      0.040      0.135      0.892      -0.074       0.085\n",
      "mood                     0.2549      0.051      4.969      0.000       0.154       0.355\n",
      "circumplex.valence      -0.1043      0.067     -1.562      0.118      -0.235       0.027\n",
      "appCat.social           -0.0204      0.039     -0.527      0.598      -0.096       0.056\n",
      "sms                   7.289e-05      0.010      0.007      0.994      -0.020       0.021\n",
      "appCat.game              0.0092      0.034      0.272      0.786      -0.057       0.076\n",
      "appCat.finance          -0.0352      0.035     -0.996      0.319      -0.104       0.034\n",
      "appCat.weather           0.0068      0.032      0.210      0.834      -0.057       0.070\n",
      "circumplex.arousal       0.0112      0.037      0.304      0.761      -0.061       0.083\n",
      "appCat.travel            0.0258      0.022      1.197      0.231      -0.016       0.068\n",
      "appCat.office            0.0396      0.046      0.858      0.391      -0.051       0.130\n",
      "appCat.other            -0.0127      0.027     -0.472      0.637      -0.065       0.040\n",
      "screen                  -0.1177      0.062     -1.888      0.059      -0.240       0.004\n",
      "wake_up                  0.0002      0.005      0.038      0.970      -0.010       0.010\n",
      "sleep                    0.0334      0.008      4.359      0.000       0.018       0.048\n",
      "week_day                 0.0096      0.013      0.726      0.468      -0.016       0.035\n",
      "week_mood                0.6467      0.047     13.725      0.000       0.554       0.739\n",
      "ar.L1                   -0.0849      1.344     -0.063      0.950      -2.719       2.550\n",
      "ma.L1                    0.1192      1.343      0.089      0.929      -2.512       2.751\n",
      "ma.L2                    0.0920      0.055      1.659      0.097      -0.017       0.201\n",
      "ma.L3                    0.0337      0.120      0.281      0.779      -0.201       0.269\n",
      "sigma2                   0.3876      0.014     27.808      0.000       0.360       0.415\n",
      "===================================================================================\n",
      "Ljung-Box (L1) (Q):                   0.00   Jarque-Bera (JB):               342.54\n",
      "Prob(Q):                              0.95   Prob(JB):                         0.00\n",
      "Heteroskedasticity (H):               0.96   Skew:                            -0.65\n",
      "Prob(H) (two-sided):                  0.76   Kurtosis:                         5.82\n",
      "===================================================================================\n",
      "\n",
      "Warnings:\n",
      "[1] Covariance matrix calculated using the outer product of gradients (complex-step).\n",
      "Dev MSE: 0.4084813931073763\n",
      "Dev MAE: 0.46542439403911406\n",
      "Forecasted mood: 851    7.154414\n",
      "852    6.888186\n",
      "853    7.043078\n",
      "854    7.178439\n",
      "855    7.445482\n",
      "Name: predicted_mean, dtype: float64 [7, 7, 7, 7, 7]\n"
     ]
    },
    {
     "name": "stderr",
     "output_type": "stream",
     "text": [
      "C:\\Users\\manya\\anaconda3\\Lib\\site-packages\\statsmodels\\base\\model.py:607: ConvergenceWarning: Maximum Likelihood optimization failed to converge. Check mle_retvals\n",
      "  warnings.warn(\"Maximum Likelihood optimization failed to \"\n",
      "C:\\Users\\manya\\anaconda3\\Lib\\site-packages\\statsmodels\\tsa\\base\\tsa_model.py:836: ValueWarning: No supported index is available. Prediction results will be given with an integer index beginning at `start`.\n",
      "  return get_prediction_index(\n",
      "C:\\Users\\manya\\anaconda3\\Lib\\site-packages\\statsmodels\\tsa\\base\\tsa_model.py:836: FutureWarning: No supported index is available. In the next version, calling this method in a model without a supported index will result in an exception.\n",
      "  return get_prediction_index(\n",
      "C:\\Users\\manya\\anaconda3\\Lib\\site-packages\\statsmodels\\tsa\\base\\tsa_model.py:836: ValueWarning: No supported index is available. Prediction results will be given with an integer index beginning at `start`.\n",
      "  return get_prediction_index(\n",
      "C:\\Users\\manya\\anaconda3\\Lib\\site-packages\\statsmodels\\tsa\\base\\tsa_model.py:836: FutureWarning: No supported index is available. In the next version, calling this method in a model without a supported index will result in an exception.\n",
      "  return get_prediction_index(\n"
     ]
    }
   ],
   "source": [
    "model = SARIMAX(endog=y_train, exog=X_train, order=(1, 0, 3))\n",
    "results = model.fit()\n",
    "\n",
    "dev_predictions = results.forecast(steps=len(target_valid), exog=features_valid)\n",
    "\n",
    "dev_mse = mean_squared_error(target_valid, dev_predictions)\n",
    "dev_mae = mean_absolute_error(target_valid, dev_predictions)\n",
    "\n",
    "print(results.summary())\n",
    "print(f\"Dev MSE: {dev_mse}\")\n",
    "print(f\"Dev MAE: {dev_mae}\")\n",
    "\n",
    "last_data = X.tail(5)\n",
    "forecast = results.forecast(steps=5, exog=last_data)\n",
    "cor_mood = corrected_mood(forecast)\n",
    "print(\"Forecasted mood:\", forecast, cor_mood)"
   ]
  }
 ],
 "metadata": {
  "kernelspec": {
   "display_name": "Python 3 (ipykernel)",
   "language": "python",
   "name": "python3"
  },
  "language_info": {
   "codemirror_mode": {
    "name": "ipython",
    "version": 3
   },
   "file_extension": ".py",
   "mimetype": "text/x-python",
   "name": "python",
   "nbconvert_exporter": "python",
   "pygments_lexer": "ipython3",
   "version": "3.12.3"
  }
 },
 "nbformat": 4,
 "nbformat_minor": 5
}
