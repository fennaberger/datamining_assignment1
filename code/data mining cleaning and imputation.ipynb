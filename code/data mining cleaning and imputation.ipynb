{
 "cells": [
  {
   "cell_type": "code",
   "execution_count": 2,
   "id": "e9a27175-7017-491b-bf58-02c0edbf4096",
   "metadata": {},
   "outputs": [],
   "source": [
    "import pandas as pd\n",
    "import numpy as np\n",
    "import statistics\n",
    "import matplotlib.pyplot as plt\n",
    "import seaborn as sns"
   ]
  },
  {
   "cell_type": "code",
   "execution_count": 4,
   "id": "bb4de4c6-9357-402c-b5c6-04f977e22662",
   "metadata": {},
   "outputs": [],
   "source": [
    "file_path = \"./dataset_mood_smartphone.csv\""
   ]
  },
  {
   "cell_type": "code",
   "execution_count": 6,
   "id": "afdb41c9-9f41-472d-b217-af1def3a396e",
   "metadata": {},
   "outputs": [],
   "source": [
    "df = pd.read_csv(file_path)"
   ]
  },
  {
   "cell_type": "markdown",
   "id": "a7af6432-d580-48c3-a2d0-649112ab0372",
   "metadata": {},
   "source": [
    "## Remove outliers from outside the range specified\n",
    "1<mood<10\n",
    "\n",
    "-2<arousal<2\n",
    "\n",
    "-2<valence<2\n",
    "\n",
    "0<activity<1"
   ]
  },
  {
   "cell_type": "code",
   "execution_count": 8,
   "id": "dacc145f-f02f-45e2-aad1-0fc5d7a75f1b",
   "metadata": {},
   "outputs": [],
   "source": [
    "good_data = []\n",
    "for i in range(len(df)):\n",
    "    variable = df.loc[i, 'variable']\n",
    "    value = df.loc[i, 'value']\n",
    "    \n",
    "    if variable == \"mood\":\n",
    "        if pd.isna(value) or (value >= 1 and value <= 10):\n",
    "            good_data.append(df.loc[i])\n",
    "\n",
    "    elif variable == \"circumplex.arousal\":\n",
    "        if pd.isna(value) or (value >= -2 and value <= 2):\n",
    "            good_data.append(df.loc[i])\n",
    "    elif variable == \"circumplex.valence\":\n",
    "        if pd.isna(value) or (value >= -2 and value <= 2):\n",
    "            good_data.append(df.loc[i])\n",
    "    elif variable == \"activity\":\n",
    "        if pd.isna(value) or (value >= 0 and value <= 1):\n",
    "            good_data.append(df.loc[i])\n",
    "    elif variable == \"call\" or variable == \"sms\":\n",
    "        if pd.isna(value) or (value == 0 or value == 1):\n",
    "            good_data.append(df.loc[i])\n",
    "\n",
    "    else: \n",
    "        good_data.append(df.loc[i])\n",
    "df_cleaned = pd.DataFrame(good_data)"
   ]
  },
  {
   "cell_type": "code",
   "execution_count": 9,
   "id": "d9300311-39da-41c9-9907-e4942db46800",
   "metadata": {},
   "outputs": [
    {
     "data": {
      "text/plain": [
       "Unnamed: 0      0\n",
       "id              0\n",
       "time            0\n",
       "variable        0\n",
       "value         202\n",
       "dtype: int64"
      ]
     },
     "execution_count": 9,
     "metadata": {},
     "output_type": "execute_result"
    }
   ],
   "source": [
    "df_cleaned.isna().sum()"
   ]
  },
  {
   "cell_type": "markdown",
   "id": "df6598b2-9317-46e1-8abf-73bff89a253b",
   "metadata": {},
   "source": [
    "### The original dataset is clean and can be used for other outlier processing!"
   ]
  },
  {
   "cell_type": "markdown",
   "id": "b2adc823-7525-40c6-a3b0-b959c0d81e6e",
   "metadata": {},
   "source": [
    "## Remove outliers from non-range variables"
   ]
  },
  {
   "cell_type": "code",
   "execution_count": 28,
   "id": "5a662a67-6578-4b07-a234-eaec4029b2ef",
   "metadata": {},
   "outputs": [
    {
     "name": "stdout",
     "output_type": "stream",
     "text": [
      "{'appCat.communication', 'circumplex.arousal', 'appCat.other', 'appCat.utilities', 'sms', 'screen', 'appCat.social', 'appCat.office', 'activity', 'appCat.finance', 'appCat.travel', 'appCat.weather', 'circumplex.valence', 'mood', 'appCat.entertainment', 'appCat.game', 'call', 'appCat.builtin', 'appCat.unknown'}\n"
     ]
    }
   ],
   "source": [
    "print((set((df[\"variable\"]))))"
   ]
  },
  {
   "cell_type": "code",
   "execution_count": 29,
   "id": "49036438-a481-4480-933d-e3cd21e5160a",
   "metadata": {},
   "outputs": [
    {
     "name": "stdout",
     "output_type": "stream",
     "text": [
      "19\n"
     ]
    }
   ],
   "source": [
    "print(len(set((df[\"variable\"]))))"
   ]
  },
  {
   "cell_type": "code",
   "execution_count": 30,
   "id": "a854d064-0f08-4a6b-a5db-45fabdc5c6fd",
   "metadata": {},
   "outputs": [
    {
     "name": "stdout",
     "output_type": "stream",
     "text": [
      "Variables and their ranges without outliers removed\n",
      "                            min        max\n",
      "variable                                  \n",
      "activity                  0.000      1.000\n",
      "appCat.builtin       -82798.871  33960.246\n",
      "appCat.communication      0.006   9830.777\n",
      "appCat.entertainment     -0.011  32148.677\n",
      "appCat.finance            0.131    355.513\n",
      "appCat.game               1.003   5491.793\n",
      "appCat.office             0.003  32708.818\n",
      "appCat.other              0.014   3892.038\n",
      "appCat.social             0.094  30000.906\n",
      "appCat.travel             0.080  10452.615\n",
      "appCat.unknown            0.111   2239.937\n",
      "appCat.utilities          0.246   1802.649\n",
      "appCat.weather            1.003    344.863\n",
      "call                      1.000      1.000\n",
      "circumplex.arousal       -2.000      2.000\n",
      "circumplex.valence       -2.000      2.000\n",
      "mood                      1.000     10.000\n",
      "screen                    0.035   9867.007\n",
      "sms                       1.000      1.000\n"
     ]
    }
   ],
   "source": [
    "ranges = df.groupby(\"variable\")[\"value\"].agg([\"min\", \"max\"])\n",
    "print(\"Variables and their ranges without outliers removed\")\n",
    "print(ranges)"
   ]
  },
  {
   "cell_type": "markdown",
   "id": "eae9cfd3-cd04-4acb-b990-2d36cd6a8e15",
   "metadata": {},
   "source": [
    "#### outlier replacement using standard deviation"
   ]
  },
  {
   "cell_type": "code",
   "execution_count": 23,
   "id": "f2b82825-5f0e-4d56-a37b-9ed1f30e4663",
   "metadata": {},
   "outputs": [],
   "source": [
    "variables = [\n",
    "    'appCat.utilities', 'appCat.travel', 'appCat.other',\n",
    "    'appCat.finance', 'appCat.social', 'appCat.game',\n",
    "    'appCat.unknown', 'appCat.builtin', 'appCat.office',\n",
    "    'appCat.weather', 'appCat.communication', 'appCat.entertainment'\n",
    "]\n",
    "\n",
    "cleaned_dfs = []\n",
    "\n",
    "for var in variables:\n",
    "    rows = df[df['variable'] == var].copy()\n",
    "    \n",
    "    empty_rows = rows[rows['value'].isna()]\n",
    "    present_rows = rows[rows['value'].notna()]\n",
    "\n",
    "    mean = present_rows['value'].mean()\n",
    "    std = present_rows['value'].std()\n",
    "\n",
    "    lb = mean - 2 * std\n",
    "    present_rows.loc[present_rows['value'] < lb, 'value'] = lb\n",
    "\n",
    "    ub = mean + 2 * std\n",
    "    present_rows.loc[present_rows['value'] > ub, 'value'] = ub\n",
    "\n",
    "    final_df = pd.concat([present_rows, empty_rows])\n",
    "    cleaned_dfs.append(final_df)\n",
    "\n",
    "everything_else = df[~df['variable'].isin(variables)]\n",
    "\n",
    "df_SD_outliers = pd.concat([everything_else] + cleaned_dfs).sort_index()\n"
   ]
  },
  {
   "cell_type": "code",
   "execution_count": 25,
   "id": "0074849b-ff40-4df3-9260-812d24a1633d",
   "metadata": {},
   "outputs": [
    {
     "data": {
      "text/plain": [
       "376912"
      ]
     },
     "execution_count": 25,
     "metadata": {},
     "output_type": "execute_result"
    }
   ],
   "source": [
    "len(df_SD_outliers)"
   ]
  },
  {
   "cell_type": "code",
   "execution_count": 33,
   "id": "d7101d63-4d2d-44df-91b7-12d8805e811a",
   "metadata": {},
   "outputs": [
    {
     "name": "stdout",
     "output_type": "stream",
     "text": [
      "376912\n"
     ]
    }
   ],
   "source": [
    "print(len(df))"
   ]
  },
  {
   "cell_type": "code",
   "execution_count": 27,
   "id": "832f638b-53c6-4320-839e-125756323493",
   "metadata": {},
   "outputs": [
    {
     "name": "stdout",
     "output_type": "stream",
     "text": [
      "Variables and their ranges outliers removed through SD\n",
      "                             min          max\n",
      "variable                                     \n",
      "activity                0.000000     1.000000\n",
      "appCat.builtin       -813.440223   850.516747\n",
      "appCat.communication    0.006000   301.169293\n",
      "appCat.entertainment   -0.011000   563.497433\n",
      "appCat.finance          0.131000   100.191974\n",
      "appCat.game             1.003000   782.682107\n",
      "appCat.office           0.003000   921.781655\n",
      "appCat.other            0.014000   251.373548\n",
      "appCat.social           0.094000   595.505598\n",
      "appCat.travel           0.080000   537.949464\n",
      "appCat.unknown          0.111000   284.353816\n",
      "appCat.utilities        0.246000   140.455819\n",
      "appCat.weather          1.003000    70.035575\n",
      "call                    1.000000     1.000000\n",
      "circumplex.arousal     -2.000000     2.000000\n",
      "circumplex.valence     -2.000000     2.000000\n",
      "mood                    1.000000    10.000000\n",
      "screen                  0.035000  9867.007000\n",
      "sms                     1.000000     1.000000\n"
     ]
    }
   ],
   "source": [
    "ranges = df_SD_outliers.groupby(\"variable\")[\"value\"].agg([\"min\", \"max\"])\n",
    "print(\"Variables and their ranges outliers removed through SD\")\n",
    "\n",
    "print(ranges)"
   ]
  },
  {
   "cell_type": "code",
   "execution_count": 29,
   "id": "c2276771-b28b-45e6-b062-ef8a2507a30b",
   "metadata": {},
   "outputs": [
    {
     "data": {
      "text/plain": [
       "376912"
      ]
     },
     "execution_count": 29,
     "metadata": {},
     "output_type": "execute_result"
    }
   ],
   "source": [
    "len(df_SD_outliers)"
   ]
  },
  {
   "cell_type": "markdown",
   "id": "0b0b050b-eeb8-45e1-af38-6f4a70d9f06f",
   "metadata": {},
   "source": [
    "#### removing any negative data points from the builtin and entertainment variables"
   ]
  },
  {
   "cell_type": "code",
   "execution_count": 47,
   "id": "c7845cba-df7f-4cde-a015-f7d12d76bd3d",
   "metadata": {},
   "outputs": [
    {
     "name": "stdout",
     "output_type": "stream",
     "text": [
      "Variables and their ranges outliers removed through SD + negative values removed\n",
      "                        min          max\n",
      "variable                                \n",
      "activity              0.000     1.000000\n",
      "appCat.builtin        0.001   850.516747\n",
      "appCat.communication  0.006   301.169293\n",
      "appCat.entertainment  0.001   563.497433\n",
      "appCat.finance        0.131   100.191974\n",
      "appCat.game           1.003   782.682107\n",
      "appCat.office         0.003   921.781655\n",
      "appCat.other          0.014   251.373548\n",
      "appCat.social         0.094   595.505598\n",
      "appCat.travel         0.080   537.949464\n",
      "appCat.unknown        0.111   284.353816\n",
      "appCat.utilities      0.246   140.455819\n",
      "appCat.weather        1.003    70.035575\n",
      "call                  1.000     1.000000\n",
      "circumplex.arousal   -2.000     2.000000\n",
      "circumplex.valence   -2.000     2.000000\n",
      "mood                  1.000    10.000000\n",
      "screen                0.035  9867.007000\n",
      "sms                   1.000     1.000000\n"
     ]
    }
   ],
   "source": [
    "df_SD_outliers = df_SD_outliers[\n",
    "    ~((df_SD_outliers[\"variable\"].isin([\"appCat.builtin\", \"appCat.entertainment\"])) &\n",
    "      (df_SD_outliers[\"value\"] < 0))\n",
    "]\n",
    "\n",
    "ranges = df_SD_outliers.groupby(\"variable\")[\"value\"].agg([\"min\", \"max\"])\n",
    "print(\"Variables and their ranges outliers removed through SD + negative values removed\")\n",
    "\n",
    "print(ranges)"
   ]
  },
  {
   "cell_type": "code",
   "execution_count": 49,
   "id": "98af1db7-502a-42a4-922e-ae26d1708706",
   "metadata": {},
   "outputs": [
    {
     "data": {
      "text/plain": [
       "376908"
      ]
     },
     "execution_count": 49,
     "metadata": {},
     "output_type": "execute_result"
    }
   ],
   "source": [
    "len(df_SD_outliers)"
   ]
  },
  {
   "cell_type": "markdown",
   "id": "8a92212d-00bb-4bbe-beee-cfe12a60e325",
   "metadata": {},
   "source": [
    "### Moving forward with the data frame created using SD method of outlier removal!!"
   ]
  },
  {
   "cell_type": "markdown",
   "id": "ef4cdac9-314b-4f7e-a12a-5a72cfdbc7ac",
   "metadata": {},
   "source": [
    "## finding missing values"
   ]
  },
  {
   "cell_type": "code",
   "execution_count": 109,
   "id": "a437ab20-7b4a-4fb5-8dc1-eb433ce29d1d",
   "metadata": {},
   "outputs": [],
   "source": [
    "counter = 0\n",
    "for entry in df[\"value\"]:\n",
    "    if pd.isna(entry):\n",
    "        counter += 1"
   ]
  },
  {
   "cell_type": "code",
   "execution_count": 111,
   "id": "988afabd-a675-4ac9-9a01-753636a00015",
   "metadata": {},
   "outputs": [
    {
     "name": "stdout",
     "output_type": "stream",
     "text": [
      "202\n"
     ]
    }
   ],
   "source": [
    "print(counter)"
   ]
  },
  {
   "cell_type": "code",
   "execution_count": 101,
   "id": "d7f77e61-c655-4237-a264-4dccc74ab159",
   "metadata": {},
   "outputs": [
    {
     "data": {
      "text/plain": [
       "Unnamed: 0      0\n",
       "id              0\n",
       "time            0\n",
       "variable        0\n",
       "value         202\n",
       "dtype: int64"
      ]
     },
     "execution_count": 101,
     "metadata": {},
     "output_type": "execute_result"
    }
   ],
   "source": [
    "df_SD_outliers.isna().sum()"
   ]
  },
  {
   "cell_type": "code",
   "execution_count": 105,
   "id": "ce356732-3a5d-4d37-8081-c3c67d5fb7dd",
   "metadata": {},
   "outputs": [
    {
     "name": "stdout",
     "output_type": "stream",
     "text": [
      "variable\n",
      "circumplex.arousal     46\n",
      "circumplex.valence    156\n",
      "dtype: int64\n"
     ]
    }
   ],
   "source": [
    "missing_data = df_SD_outliers[df_SD_outliers[\"value\"].isna()].groupby(\"variable\").size()\n",
    "print(missing_data)"
   ]
  },
  {
   "cell_type": "markdown",
   "id": "836702d3-45b2-41ca-ab12-79967c058666",
   "metadata": {},
   "source": [
    "## Replacing missing values with mean or median value"
   ]
  },
  {
   "cell_type": "markdown",
   "id": "17bc2149-844b-481a-b581-49262a9b9067",
   "metadata": {},
   "source": [
    "Mean"
   ]
  },
  {
   "cell_type": "code",
   "execution_count": 53,
   "id": "d0afb297-da16-40c8-8a9e-07dfcb9bc465",
   "metadata": {},
   "outputs": [],
   "source": [
    "valence_only = df_SD_outliers[df_SD_outliers[\"variable\"].isin([\"circumplex.valence\"])][\"value\"]\n",
    "arousal_only = df_SD_outliers[df_SD_outliers[\"variable\"].isin([\"circumplex.arousal\"])][\"value\"]"
   ]
  },
  {
   "cell_type": "code",
   "execution_count": 55,
   "id": "6decc981-9ecd-4801-9ecc-29377d56e6c0",
   "metadata": {},
   "outputs": [],
   "source": [
    "val_mean_list = []\n",
    "\n",
    "for value in valence_only:\n",
    "    if not pd.isna(value):\n",
    "        val_mean_list.append(value)\n",
    "        \n",
    "aro_mean_list = []\n",
    "\n",
    "for value in arousal_only:\n",
    "    if not pd.isna(value):\n",
    "        aro_mean_list.append(value)"
   ]
  },
  {
   "cell_type": "code",
   "execution_count": 57,
   "id": "110756a5-b265-4bdd-a67f-310ef5a1c137",
   "metadata": {},
   "outputs": [
    {
     "name": "stdout",
     "output_type": "stream",
     "text": [
      "Mean valence: 0.6878075451066157\n",
      "Mean arousal: -0.09862426299803466\n"
     ]
    }
   ],
   "source": [
    "mean_val = statistics.mean(val_mean_list)\n",
    "print(\"Mean valence:\", mean_val)\n",
    "\n",
    "mean_aro = statistics.mean(aro_mean_list)\n",
    "print(\"Mean arousal:\", mean_aro)"
   ]
  },
  {
   "cell_type": "code",
   "execution_count": 59,
   "id": "dab220df-97f5-41b3-983f-fbae40653112",
   "metadata": {},
   "outputs": [],
   "source": [
    "df_valence_mean = df_SD_outliers.copy()"
   ]
  },
  {
   "cell_type": "code",
   "execution_count": 61,
   "id": "91302247-944d-4a88-971f-342eee777938",
   "metadata": {},
   "outputs": [],
   "source": [
    "for i in range(len(df_valence_mean)):\n",
    "    if df_valence_mean.iloc[i][\"variable\"] == \"circumplex.valence\":\n",
    "        if pd.isna(df_valence_mean.iloc[i][\"value\"]):\n",
    "            df_valence_mean.iloc[i, df_valence_mean.columns.get_loc(\"value\")] = mean_val"
   ]
  },
  {
   "cell_type": "code",
   "execution_count": 62,
   "id": "577aef53-0999-45cd-91f3-4337a16d0d94",
   "metadata": {},
   "outputs": [],
   "source": [
    "for i in range(len(df_valence_mean)):\n",
    "    if df_valence_mean.iloc[i][\"variable\"] == \"circumplex.arousal\":\n",
    "        if pd.isna(df_valence_mean.iloc[i][\"value\"]):\n",
    "            df_valence_mean.iloc[i, df_valence_mean.columns.get_loc(\"value\")] = mean_aro"
   ]
  },
  {
   "cell_type": "code",
   "execution_count": 63,
   "id": "a5a8f9cb-1faa-4733-973e-96f837ffe2d5",
   "metadata": {},
   "outputs": [],
   "source": [
    "df_valence_mean.to_csv(\"mean_substitution.csv\", index = False)"
   ]
  },
  {
   "cell_type": "code",
   "execution_count": 61,
   "id": "be2e7feb-25d9-40c0-8e03-a249c060386b",
   "metadata": {},
   "outputs": [
    {
     "data": {
      "text/plain": [
       "374843"
      ]
     },
     "execution_count": 61,
     "metadata": {},
     "output_type": "execute_result"
    }
   ],
   "source": [
    "len(df_valence_mean)"
   ]
  },
  {
   "cell_type": "markdown",
   "id": "d11730f8-1243-4727-94f6-0e9acff706f0",
   "metadata": {},
   "source": [
    "Median"
   ]
  },
  {
   "cell_type": "code",
   "execution_count": 62,
   "id": "40ed746d-997e-40b4-96fe-9701903ab96f",
   "metadata": {},
   "outputs": [],
   "source": [
    "val_median_list = []\n",
    "\n",
    "for value in valence_only:\n",
    "    if not pd.isna(value):\n",
    "        val_median_list.append(value)\n",
    "        \n",
    "aro_median_list = []\n",
    "\n",
    "for value in arousal_only:\n",
    "    if not pd.isna(value):\n",
    "        aro_median_list.append(value)"
   ]
  },
  {
   "cell_type": "code",
   "execution_count": 63,
   "id": "8280b0eb-7b25-4810-a89b-7ca6eef8215d",
   "metadata": {},
   "outputs": [
    {
     "name": "stdout",
     "output_type": "stream",
     "text": [
      "Median valence: 1.0\n",
      "Median arousal: 0.0\n"
     ]
    }
   ],
   "source": [
    "median_val = statistics.median(val_median_list)\n",
    "print(\"Median valence:\", median_val)\n",
    "\n",
    "median_aro = statistics.median(aro_median_list)\n",
    "print(\"Median arousal:\", median_aro)"
   ]
  },
  {
   "cell_type": "code",
   "execution_count": 64,
   "id": "54d45c78-54b8-4793-b921-7c5d38e8a9ab",
   "metadata": {},
   "outputs": [],
   "source": [
    "df_valence_median = df_SD_outliers.copy()"
   ]
  },
  {
   "cell_type": "code",
   "execution_count": 65,
   "id": "4a1da815-c544-4d74-b030-d4839f476225",
   "metadata": {},
   "outputs": [],
   "source": [
    "for i in range(len(df_valence_median)):\n",
    "    if df_valence_mean.iloc[i][\"variable\"] == \"circumplex.valence\":\n",
    "        if pd.isna(df_valence_median.iloc[i][\"value\"]):\n",
    "            df_valence_median.iloc[i, df_valence_median.columns.get_loc(\"value\")] = median_val"
   ]
  },
  {
   "cell_type": "code",
   "execution_count": 66,
   "id": "3b080c56-0caa-4e19-811a-9660d4bee9db",
   "metadata": {},
   "outputs": [],
   "source": [
    "for i in range(len(df_valence_median)):\n",
    "    if df_valence_mean.iloc[i][\"variable\"] == \"circumplex.arousal\":\n",
    "        if pd.isna(df_valence_median.iloc[i][\"value\"]):\n",
    "            df_valence_median.iloc[i, df_valence_median.columns.get_loc(\"value\")] = median_aro"
   ]
  },
  {
   "cell_type": "code",
   "execution_count": 67,
   "id": "81a75102-cbb0-4a78-9d22-8b8ac70bd89c",
   "metadata": {},
   "outputs": [],
   "source": [
    "# df_valence_median.to_csv(\"median_substitution.csv\", index = False)"
   ]
  },
  {
   "cell_type": "markdown",
   "id": "f80ff295-480b-41f8-ab85-2628a77fa428",
   "metadata": {},
   "source": [
    "## Replacing missing values with previous value LOCF"
   ]
  },
  {
   "cell_type": "code",
   "execution_count": 68,
   "id": "796d3b17-52d6-41b7-91d4-44bd85d6b828",
   "metadata": {},
   "outputs": [],
   "source": [
    "locf_df =df_SD_outliers.copy()\n",
    "missing_arousal = locf_df['variable'] == 'circumplex.arousal'\n",
    "locf_df.loc[missing_arousal, 'value'] = locf_df.loc[missing_arousal, 'value'].ffill()\n",
    "\n",
    "missing_valence = locf_df['variable'] == 'circumplex.valence'\n",
    "locf_df.loc[missing_valence, 'value'] = locf_df.loc[missing_valence, 'value'].ffill()"
   ]
  },
  {
   "cell_type": "code",
   "execution_count": 69,
   "id": "25964052-34ee-471a-9d97-84b00e95c368",
   "metadata": {},
   "outputs": [],
   "source": [
    "# locf_df.to_csv(\"locf_df.csv\", index = False)"
   ]
  },
  {
   "cell_type": "markdown",
   "id": "f50731f1-4099-4da3-8706-493f8d95f1c8",
   "metadata": {},
   "source": [
    "## Replacing missing values with following value NOCB"
   ]
  },
  {
   "cell_type": "code",
   "execution_count": 71,
   "id": "66a25206-f0ff-4a7a-a719-54c40eea5a85",
   "metadata": {},
   "outputs": [],
   "source": [
    "nocb_df =df_SD_outliers.copy()\n",
    "missing_arousal = locf_df['variable'] == 'circumplex.arousal'\n",
    "nocb_df.loc[missing_arousal, 'value'] = nocb_df.loc[missing_arousal, 'value'].bfill()\n",
    "\n",
    "missing_valence = locf_df['variable'] == 'circumplex.valence'\n",
    "nocb_df.loc[missing_valence, 'value'] = nocb_df.loc[missing_valence, 'value'].bfill()"
   ]
  },
  {
   "cell_type": "code",
   "execution_count": 72,
   "id": "31c54caa-475c-4509-a160-03f24f01e788",
   "metadata": {},
   "outputs": [],
   "source": [
    "# nocb_df.to_csv(\"nocb_df.csv\", index = False)"
   ]
  },
  {
   "cell_type": "markdown",
   "id": "b79a61f0-5f3c-437a-b2b4-c6973b4e86e0",
   "metadata": {},
   "source": [
    "## Imputing into daily data based dataset -- using mean"
   ]
  },
  {
   "cell_type": "code",
   "execution_count": 24,
   "id": "acbe889f-23eb-4574-b733-44acaa72ac6a",
   "metadata": {},
   "outputs": [],
   "source": [
    "file_path = \"./final_dataset.csv\"\n",
    "df = pd.read_csv(file_path)"
   ]
  },
  {
   "cell_type": "code",
   "execution_count": 26,
   "id": "f356da08-a07f-4c00-9c1c-f6eb03ab1b65",
   "metadata": {},
   "outputs": [
    {
     "data": {
      "text/plain": [
       "day                        0\n",
       "day_id                     0\n",
       "id                         0\n",
       "mood                       0\n",
       "activity                 103\n",
       "circumplex.valence         0\n",
       "circumplex.arousal         0\n",
       "appCat.other             145\n",
       "appCat.finance          1014\n",
       "appCat.social            281\n",
       "appCat.travel            810\n",
       "appCat.game             1037\n",
       "appCat.builtin            91\n",
       "appCat.communication     103\n",
       "call                     492\n",
       "appCat.unknown           975\n",
       "appCat.office            951\n",
       "appCat.weather          1109\n",
       "sms                      796\n",
       "appCat.entertainment     422\n",
       "screen                    84\n",
       "appCat.utilities         799\n",
       "target                     0\n",
       "dtype: int64"
      ]
     },
     "execution_count": 26,
     "metadata": {},
     "output_type": "execute_result"
    }
   ],
   "source": [
    "df.isna().sum()"
   ]
  },
  {
   "cell_type": "markdown",
   "id": "6e9c3507-8465-4aa0-a314-da2e3bf269cb",
   "metadata": {},
   "source": [
    "### Imputing"
   ]
  },
  {
   "cell_type": "code",
   "execution_count": 28,
   "id": "087f3b26-e02c-4e2f-ad6f-1ee8ff28ee06",
   "metadata": {},
   "outputs": [],
   "source": [
    "app_categories = ['appCat.builtin', 'appCat.communication', 'call', 'activity', 'appCat.utilities', 'appCat.entertainment', 'appCat.unknown', 'mood', 'circumplex.valence', 'appCat.social', 'appCat.game', 'appCat.finance', 'appCat.weather', 'sms','circumplex.arousal', 'appCat.travel', 'appCat.office', 'appCat.other', 'screen']\n",
    "mean_dict = dict()\n",
    "for column in app_categories:\n",
    "    base_list = df[column].dropna().tolist()\n",
    "    if column == \"activity\":\n",
    "        mean_value = statistics.mean(base_list)\n",
    "    else:\n",
    "        mean_value = 0\n",
    "    df[column] = df[column].fillna(mean_value)\n",
    "    mean_dict[column] = mean_value"
   ]
  },
  {
   "cell_type": "code",
   "execution_count": 30,
   "id": "516fcfd9-9976-4d2f-9bb7-9734d93d59bf",
   "metadata": {},
   "outputs": [
    {
     "data": {
      "text/plain": [
       "{'appCat.builtin': 0,\n",
       " 'appCat.communication': 0,\n",
       " 'call': 0,\n",
       " 'activity': 0.11987814702814238,\n",
       " 'appCat.utilities': 0,\n",
       " 'appCat.entertainment': 0,\n",
       " 'appCat.unknown': 0,\n",
       " 'mood': 0,\n",
       " 'circumplex.valence': 0,\n",
       " 'appCat.social': 0,\n",
       " 'appCat.game': 0,\n",
       " 'appCat.finance': 0,\n",
       " 'appCat.weather': 0,\n",
       " 'sms': 0,\n",
       " 'circumplex.arousal': 0,\n",
       " 'appCat.travel': 0,\n",
       " 'appCat.office': 0,\n",
       " 'appCat.other': 0,\n",
       " 'screen': 0}"
      ]
     },
     "execution_count": 30,
     "metadata": {},
     "output_type": "execute_result"
    }
   ],
   "source": [
    "mean_dict"
   ]
  },
  {
   "cell_type": "code",
   "execution_count": 32,
   "id": "e840331f-36e9-468f-a1ed-c6cec553351b",
   "metadata": {
    "scrolled": true
   },
   "outputs": [
    {
     "name": "stdout",
     "output_type": "stream",
     "text": [
      "Range for appCat.builtin\n",
      "Min: 0.0 Max: 3531.816125044548\n",
      "Range for call\n",
      "Min: 0.0 Max: 31.0\n",
      "Range for sms\n",
      "Min: 0.0 Max: 15.0\n",
      "Range for appCat.communication\n",
      "Min: 0.0 Max: 10511.695206128632\n",
      "Range for activity\n",
      "Min: 0.0 Max: 0.5494297847746124\n",
      "Range for appCat.utilities\n",
      "Min: 0.0 Max: 1652.1282645834774\n",
      "Range for appCat.entertainment\n",
      "Min: 0.0 Max: 3965.75530426584\n",
      "Range for appCat.unknown\n",
      "Min: 0.0 Max: 1489.9524370336942\n",
      "Range for mood\n",
      "Min: 3.0 Max: 9.333333333333334\n",
      "Range for circumplex.valence\n",
      "Min: -1.25 Max: 2.0\n",
      "Range for appCat.social\n",
      "Min: 0.0 Max: 12452.362911288452\n",
      "Range for appCat.game\n",
      "Min: 0.0 Max: 3430.952398128177\n",
      "Range for appCat.finance\n",
      "Min: 0.0 Max: 543.5432857489047\n",
      "Range for appCat.weather\n",
      "Min: 0.0 Max: 303.357\n",
      "Range for circumplex.arousal\n",
      "Min: -2.0 Max: 2.0\n",
      "Range for appCat.travel\n",
      "Min: 0.0 Max: 1636.648545719229\n",
      "Range for appCat.office\n",
      "Min: 0.0 Max: 1389.1390404390668\n",
      "Range for appCat.other\n",
      "Min: 0.0 Max: 1424.031478310208\n",
      "Range for screen\n",
      "Min: 0.0 Max: 36204.10500144956\n"
     ]
    }
   ],
   "source": [
    "app_categories = ['appCat.builtin', 'call', 'sms','appCat.communication', 'activity', 'appCat.utilities', 'appCat.entertainment', 'appCat.unknown', 'mood', 'circumplex.valence', 'appCat.social', 'appCat.game', 'appCat.finance', 'appCat.weather', 'circumplex.arousal', 'appCat.travel', 'appCat.office', 'appCat.other', 'screen']\n",
    "for column in app_categories:\n",
    "    print(f\"Range for {column}\")\n",
    "    print(\"Min:\", df[column].min(), \"Max:\", df[column].max())"
   ]
  },
  {
   "cell_type": "code",
   "execution_count": 34,
   "id": "1c34e5ef-890b-4a81-9151-ea64606afdee",
   "metadata": {},
   "outputs": [
    {
     "data": {
      "text/plain": [
       "day                     0\n",
       "day_id                  0\n",
       "id                      0\n",
       "mood                    0\n",
       "activity                0\n",
       "circumplex.valence      0\n",
       "circumplex.arousal      0\n",
       "appCat.other            0\n",
       "appCat.finance          0\n",
       "appCat.social           0\n",
       "appCat.travel           0\n",
       "appCat.game             0\n",
       "appCat.builtin          0\n",
       "appCat.communication    0\n",
       "call                    0\n",
       "appCat.unknown          0\n",
       "appCat.office           0\n",
       "appCat.weather          0\n",
       "sms                     0\n",
       "appCat.entertainment    0\n",
       "screen                  0\n",
       "appCat.utilities        0\n",
       "target                  0\n",
       "dtype: int64"
      ]
     },
     "execution_count": 34,
     "metadata": {},
     "output_type": "execute_result"
    }
   ],
   "source": [
    "df.isna().sum()"
   ]
  },
  {
   "cell_type": "code",
   "execution_count": 40,
   "id": "4ec91164-605f-4355-9a99-db64af31f625",
   "metadata": {},
   "outputs": [],
   "source": [
    "df.to_csv(\"imputed_final_dataset.csv\", index = False)"
   ]
  },
  {
   "cell_type": "code",
   "execution_count": 42,
   "id": "e4c3d69b-efb1-457e-b9b5-ffa2de8942d8",
   "metadata": {},
   "outputs": [
    {
     "data": {
      "text/html": [
       "<div>\n",
       "<style scoped>\n",
       "    .dataframe tbody tr th:only-of-type {\n",
       "        vertical-align: middle;\n",
       "    }\n",
       "\n",
       "    .dataframe tbody tr th {\n",
       "        vertical-align: top;\n",
       "    }\n",
       "\n",
       "    .dataframe thead th {\n",
       "        text-align: right;\n",
       "    }\n",
       "</style>\n",
       "<table border=\"1\" class=\"dataframe\">\n",
       "  <thead>\n",
       "    <tr style=\"text-align: right;\">\n",
       "      <th></th>\n",
       "      <th>day</th>\n",
       "      <th>day_id</th>\n",
       "      <th>id</th>\n",
       "      <th>mood</th>\n",
       "      <th>activity</th>\n",
       "      <th>circumplex.valence</th>\n",
       "      <th>circumplex.arousal</th>\n",
       "      <th>appCat.other</th>\n",
       "      <th>appCat.finance</th>\n",
       "      <th>appCat.social</th>\n",
       "      <th>...</th>\n",
       "      <th>appCat.communication</th>\n",
       "      <th>call</th>\n",
       "      <th>appCat.unknown</th>\n",
       "      <th>appCat.office</th>\n",
       "      <th>appCat.weather</th>\n",
       "      <th>sms</th>\n",
       "      <th>appCat.entertainment</th>\n",
       "      <th>screen</th>\n",
       "      <th>appCat.utilities</th>\n",
       "      <th>target</th>\n",
       "    </tr>\n",
       "  </thead>\n",
       "  <tbody>\n",
       "    <tr>\n",
       "      <th>0</th>\n",
       "      <td>2014-02-26</td>\n",
       "      <td>AS14.01_2014-02-26</td>\n",
       "      <td>AS14.01</td>\n",
       "      <td>6.25</td>\n",
       "      <td>0.119878</td>\n",
       "      <td>0.750000</td>\n",
       "      <td>-0.25</td>\n",
       "      <td>0.000000</td>\n",
       "      <td>0.000</td>\n",
       "      <td>0.000000</td>\n",
       "      <td>...</td>\n",
       "      <td>0.000000</td>\n",
       "      <td>1.0</td>\n",
       "      <td>0.0</td>\n",
       "      <td>0.000000</td>\n",
       "      <td>0.000</td>\n",
       "      <td>2.0</td>\n",
       "      <td>0.000000</td>\n",
       "      <td>0.000000</td>\n",
       "      <td>0.000000</td>\n",
       "      <td>6.333333</td>\n",
       "    </tr>\n",
       "    <tr>\n",
       "      <th>1</th>\n",
       "      <td>2014-03-21</td>\n",
       "      <td>AS14.01_2014-03-21</td>\n",
       "      <td>AS14.01</td>\n",
       "      <td>6.20</td>\n",
       "      <td>0.134050</td>\n",
       "      <td>0.200000</td>\n",
       "      <td>0.20</td>\n",
       "      <td>178.546762</td>\n",
       "      <td>49.544</td>\n",
       "      <td>3849.865864</td>\n",
       "      <td>...</td>\n",
       "      <td>4152.075590</td>\n",
       "      <td>6.0</td>\n",
       "      <td>0.0</td>\n",
       "      <td>104.097416</td>\n",
       "      <td>0.000</td>\n",
       "      <td>0.0</td>\n",
       "      <td>643.258840</td>\n",
       "      <td>17978.907000</td>\n",
       "      <td>307.461566</td>\n",
       "      <td>6.400000</td>\n",
       "    </tr>\n",
       "    <tr>\n",
       "      <th>2</th>\n",
       "      <td>2014-03-22</td>\n",
       "      <td>AS14.01_2014-03-22</td>\n",
       "      <td>AS14.01</td>\n",
       "      <td>6.40</td>\n",
       "      <td>0.236880</td>\n",
       "      <td>0.537562</td>\n",
       "      <td>0.60</td>\n",
       "      <td>98.143000</td>\n",
       "      <td>21.076</td>\n",
       "      <td>439.632000</td>\n",
       "      <td>...</td>\n",
       "      <td>3352.118590</td>\n",
       "      <td>3.0</td>\n",
       "      <td>0.0</td>\n",
       "      <td>0.000000</td>\n",
       "      <td>0.000</td>\n",
       "      <td>1.0</td>\n",
       "      <td>93.324000</td>\n",
       "      <td>6142.161000</td>\n",
       "      <td>92.349783</td>\n",
       "      <td>6.800000</td>\n",
       "    </tr>\n",
       "    <tr>\n",
       "      <th>3</th>\n",
       "      <td>2014-03-23</td>\n",
       "      <td>AS14.01_2014-03-23</td>\n",
       "      <td>AS14.01</td>\n",
       "      <td>6.80</td>\n",
       "      <td>0.142741</td>\n",
       "      <td>0.800000</td>\n",
       "      <td>0.20</td>\n",
       "      <td>72.823000</td>\n",
       "      <td>43.403</td>\n",
       "      <td>831.443716</td>\n",
       "      <td>...</td>\n",
       "      <td>3573.503334</td>\n",
       "      <td>0.0</td>\n",
       "      <td>0.0</td>\n",
       "      <td>0.000000</td>\n",
       "      <td>30.386</td>\n",
       "      <td>0.0</td>\n",
       "      <td>94.346000</td>\n",
       "      <td>6773.832001</td>\n",
       "      <td>30.086000</td>\n",
       "      <td>6.000000</td>\n",
       "    </tr>\n",
       "    <tr>\n",
       "      <th>4</th>\n",
       "      <td>2014-03-24</td>\n",
       "      <td>AS14.01_2014-03-24</td>\n",
       "      <td>AS14.01</td>\n",
       "      <td>6.00</td>\n",
       "      <td>0.078961</td>\n",
       "      <td>0.000000</td>\n",
       "      <td>0.80</td>\n",
       "      <td>66.558000</td>\n",
       "      <td>34.106</td>\n",
       "      <td>2272.933580</td>\n",
       "      <td>...</td>\n",
       "      <td>6070.152590</td>\n",
       "      <td>10.0</td>\n",
       "      <td>0.0</td>\n",
       "      <td>3.010000</td>\n",
       "      <td>0.000</td>\n",
       "      <td>0.0</td>\n",
       "      <td>160.882768</td>\n",
       "      <td>15047.351001</td>\n",
       "      <td>10.064000</td>\n",
       "      <td>6.750000</td>\n",
       "    </tr>\n",
       "  </tbody>\n",
       "</table>\n",
       "<p>5 rows × 23 columns</p>\n",
       "</div>"
      ],
      "text/plain": [
       "          day              day_id       id  mood  activity  \\\n",
       "0  2014-02-26  AS14.01_2014-02-26  AS14.01  6.25  0.119878   \n",
       "1  2014-03-21  AS14.01_2014-03-21  AS14.01  6.20  0.134050   \n",
       "2  2014-03-22  AS14.01_2014-03-22  AS14.01  6.40  0.236880   \n",
       "3  2014-03-23  AS14.01_2014-03-23  AS14.01  6.80  0.142741   \n",
       "4  2014-03-24  AS14.01_2014-03-24  AS14.01  6.00  0.078961   \n",
       "\n",
       "   circumplex.valence  circumplex.arousal  appCat.other  appCat.finance  \\\n",
       "0            0.750000               -0.25      0.000000           0.000   \n",
       "1            0.200000                0.20    178.546762          49.544   \n",
       "2            0.537562                0.60     98.143000          21.076   \n",
       "3            0.800000                0.20     72.823000          43.403   \n",
       "4            0.000000                0.80     66.558000          34.106   \n",
       "\n",
       "   appCat.social  ...  appCat.communication  call  appCat.unknown  \\\n",
       "0       0.000000  ...              0.000000   1.0             0.0   \n",
       "1    3849.865864  ...           4152.075590   6.0             0.0   \n",
       "2     439.632000  ...           3352.118590   3.0             0.0   \n",
       "3     831.443716  ...           3573.503334   0.0             0.0   \n",
       "4    2272.933580  ...           6070.152590  10.0             0.0   \n",
       "\n",
       "   appCat.office  appCat.weather  sms  appCat.entertainment        screen  \\\n",
       "0       0.000000           0.000  2.0              0.000000      0.000000   \n",
       "1     104.097416           0.000  0.0            643.258840  17978.907000   \n",
       "2       0.000000           0.000  1.0             93.324000   6142.161000   \n",
       "3       0.000000          30.386  0.0             94.346000   6773.832001   \n",
       "4       3.010000           0.000  0.0            160.882768  15047.351001   \n",
       "\n",
       "   appCat.utilities    target  \n",
       "0          0.000000  6.333333  \n",
       "1        307.461566  6.400000  \n",
       "2         92.349783  6.800000  \n",
       "3         30.086000  6.000000  \n",
       "4         10.064000  6.750000  \n",
       "\n",
       "[5 rows x 23 columns]"
      ]
     },
     "execution_count": 42,
     "metadata": {},
     "output_type": "execute_result"
    }
   ],
   "source": [
    "df.head()"
   ]
  }
 ],
 "metadata": {
  "kernelspec": {
   "display_name": "Python 3 (ipykernel)",
   "language": "python",
   "name": "python3"
  },
  "language_info": {
   "codemirror_mode": {
    "name": "ipython",
    "version": 3
   },
   "file_extension": ".py",
   "mimetype": "text/x-python",
   "name": "python",
   "nbconvert_exporter": "python",
   "pygments_lexer": "ipython3",
   "version": "3.12.3"
  }
 },
 "nbformat": 4,
 "nbformat_minor": 5
}
