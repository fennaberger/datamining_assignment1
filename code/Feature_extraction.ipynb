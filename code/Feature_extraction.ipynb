{
 "cells": [
  {
   "cell_type": "code",
   "execution_count": 123,
   "id": "45582914-deab-4014-9f1e-d25810220cc8",
   "metadata": {},
   "outputs": [],
   "source": [
    "import pandas as pd\n",
    "import numpy as np"
   ]
  },
  {
   "cell_type": "code",
   "execution_count": 124,
   "id": "21ec4b34-4464-4be8-b7b3-2ed34e6a7a34",
   "metadata": {},
   "outputs": [],
   "source": [
    "data_path = r'.\\data\\mean_substitution.csv'"
   ]
  },
  {
   "cell_type": "code",
   "execution_count": 125,
   "id": "4ddda083-11d0-44e9-bd96-6f470b3ed251",
   "metadata": {},
   "outputs": [],
   "source": [
    "df = pd.read_csv(data_path, index_col = 'Unnamed: 0')"
   ]
  },
  {
   "cell_type": "code",
   "execution_count": 126,
   "id": "2519271a-6172-4cdc-90ff-3e200ce415dd",
   "metadata": {},
   "outputs": [],
   "source": [
    "df['day'] = df['time'].str.split(' ').str[0]"
   ]
  },
  {
   "cell_type": "code",
   "execution_count": 127,
   "id": "e4a05b02-ec11-478c-8257-6185fba5f28f",
   "metadata": {},
   "outputs": [],
   "source": [
    "df['time'] = df['time'].str.split(' ').str[1]"
   ]
  },
  {
   "cell_type": "code",
   "execution_count": 128,
   "id": "ef22afd2-6ca6-4e6c-aa3c-ea048cf418ad",
   "metadata": {},
   "outputs": [],
   "source": [
    "df['day_id'] = df['id'] + '_' + df['day']"
   ]
  },
  {
   "cell_type": "code",
   "execution_count": 129,
   "id": "67f45e49-bbb7-4572-bd74-7c04f3f841d0",
   "metadata": {},
   "outputs": [],
   "source": [
    "day_ids = list(set(df['day_id']))"
   ]
  },
  {
   "cell_type": "code",
   "execution_count": 134,
   "id": "44a4e022-1ec6-4d2f-84d6-f0117e123c56",
   "metadata": {},
   "outputs": [],
   "source": [
    "first = {}\n",
    "last = {}\n",
    "df_activity = df[df['variable'] == 'activity']\n",
    "\n",
    "for day_id in day_ids:\n",
    "    df_day_id = df_activity[df_activity['day_id'] == day_id]\n",
    "    df_day_id = df_day_id.sort_values(by=['time'])\n",
    "    sleep = df_day_id[df_day_id['value'] != 0]\n",
    "    if len(sleep) > 0:\n",
    "        first[day_id] = int(str(df_day_id[df_day_id['value'] != 0].iloc[0]['time']).split(':')[0])\n",
    "        last[day_id] = int(str(df_day_id[df_day_id['value'] != 0].iloc[-1]['time']).split(':')[0])\n",
    "    else:\n",
    "        first[day_id] = np.nan\n",
    "        last[day_id] = np.nan"
   ]
  },
  {
   "cell_type": "code",
   "execution_count": 136,
   "id": "4afbd14b-776f-4f80-8181-3dadb1410e3f",
   "metadata": {},
   "outputs": [
    {
     "name": "stdout",
     "output_type": "stream",
     "text": [
      "{'appCat.finance', 'appCat.weather', 'circumplex.valence', 'appCat.office', 'sms', 'screen', 'activity', 'appCat.other', 'appCat.travel', 'appCat.game', 'appCat.entertainment', 'appCat.communication', 'appCat.utilities', 'circumplex.arousal', 'mood', 'appCat.social', 'appCat.builtin', 'appCat.unknown', 'call'}\n"
     ]
    }
   ],
   "source": [
    "print(set(df['variable']))\n",
    "averages = ['mood', 'activity', 'circumplex.valence', 'circumplex.arousal']\n",
    "count = ['appCat.other', 'appCat.finance', 'appCat.social', 'appCat.travel', 'appCat.game', 'appCat.builtin', 'appCat.communication', 'call', 'appCat.unknown', 'appCat.office', 'appCat.weather', 'sms', 'appCat.entertainment', 'screen', 'appCat.utilities']"
   ]
  },
  {
   "cell_type": "code",
   "execution_count": 137,
   "id": "db60f4de-ad90-4c61-b257-1354b143c4f5",
   "metadata": {},
   "outputs": [],
   "source": [
    "df_clean = df[['day', 'day_id', 'id']].copy()\n",
    "df_clean = df_clean.drop_duplicates()"
   ]
  },
  {
   "cell_type": "code",
   "execution_count": 138,
   "id": "229adb33-bb7a-4481-8215-cbafc99a1e10",
   "metadata": {},
   "outputs": [],
   "source": [
    "for variable in averages:\n",
    "    df_var = df[df['variable'] == variable]\n",
    "    avg_var = df_var.groupby('day_id')['value'].mean()\n",
    "    df_clean[variable] = df_clean['day_id'].map(avg_var)\n",
    "    if variable == 'mood':\n",
    "        moods = avg_var.to_dict()\n",
    "\n",
    "for variable in count:\n",
    "    df_var = df[df['variable'] == variable]\n",
    "    sum_var = df_var.groupby('day_id')['value'].sum()\n",
    "    df_clean[variable] = df_clean['day_id'].map(sum_var)       \n"
   ]
  },
  {
   "cell_type": "code",
   "execution_count": 139,
   "id": "2674c57f-7a95-4a3a-9380-5a75aff30b61",
   "metadata": {},
   "outputs": [],
   "source": [
    "next_mood = {}\n",
    "dates = sorted(list(set(df_clean['day'])))\n",
    "for dateid in moods.keys():\n",
    "    d_i = dateid.split('_')\n",
    "    d = d_i[1]\n",
    "    i = d_i[0]\n",
    "    d_index = dates.index(d)\n",
    "    if d_index < len(dates) - 1:\n",
    "        new_d_i = i + '_' + dates[d_index + 1]\n",
    "        if new_d_i in moods:\n",
    "            next_mood[dateid] = moods[new_d_i]\n",
    "        else:\n",
    "            next_mood[dateid] = np.nan\n",
    "    else:\n",
    "        next_mood[dateid] = np.nan"
   ]
  },
  {
   "cell_type": "code",
   "execution_count": 140,
   "id": "ee2b9648-e94d-4b75-9e53-9f54ddf0a7d1",
   "metadata": {},
   "outputs": [],
   "source": [
    "df_clean['target'] = df_clean['day_id'].map(next_mood)"
   ]
  },
  {
   "cell_type": "code",
   "execution_count": 141,
   "id": "dcf32de0-303c-4833-87e4-fc0c12a600ef",
   "metadata": {},
   "outputs": [],
   "source": [
    "df_clean['wake_up'] = df_clean['day_id'].map(first)"
   ]
  },
  {
   "cell_type": "code",
   "execution_count": 142,
   "id": "6b47e32f-9c86-41d3-a2e4-33ce8c89776c",
   "metadata": {},
   "outputs": [],
   "source": [
    "df_clean['sleep'] = df_clean['day_id'].map(last)"
   ]
  },
  {
   "cell_type": "code",
   "execution_count": 143,
   "id": "4ed95b8a-177c-440a-8368-0875d6225d7c",
   "metadata": {},
   "outputs": [],
   "source": [
    "df_clean = df_clean.drop_duplicates().sort_values('day_id')"
   ]
  },
  {
   "cell_type": "code",
   "execution_count": 157,
   "id": "71fd2970-7294-4818-b499-c8571d7a561b",
   "metadata": {},
   "outputs": [],
   "source": [
    "standardize = ['appCat.other', 'appCat.finance', 'appCat.social', 'appCat.travel', 'appCat.game', 'appCat.builtin', 'appCat.communication', 'appCat.unknown', 'appCat.office', 'appCat.weather', 'appCat.entertainment', 'screen', 'appCat.utilities']"
   ]
  },
  {
   "cell_type": "code",
   "execution_count": 159,
   "id": "9c3c6bab-247c-480c-b0d7-553394a686ea",
   "metadata": {},
   "outputs": [],
   "source": [
    "for var in standardize:\n",
    "    df_clean[var] = (df_clean[var]-df_clean[var].mean())/df_clean[var].std()"
   ]
  },
  {
   "cell_type": "code",
   "execution_count": 160,
   "id": "eebc037b-6069-43eb-9bee-394fe786aeac",
   "metadata": {},
   "outputs": [
    {
     "data": {
      "text/plain": [
       "day                     0\n",
       "day_id                  0\n",
       "id                      0\n",
       "mood                    0\n",
       "activity                0\n",
       "circumplex.valence      0\n",
       "circumplex.arousal      0\n",
       "appCat.other            0\n",
       "appCat.finance          0\n",
       "appCat.social           0\n",
       "appCat.travel           0\n",
       "appCat.game             0\n",
       "appCat.builtin          0\n",
       "appCat.communication    0\n",
       "call                    0\n",
       "appCat.unknown          0\n",
       "appCat.office           0\n",
       "appCat.weather          0\n",
       "sms                     0\n",
       "appCat.entertainment    0\n",
       "screen                  0\n",
       "appCat.utilities        0\n",
       "target                  0\n",
       "wake_up                 0\n",
       "sleep                   0\n",
       "week_day                0\n",
       "week_mood               0\n",
       "dtype: int64"
      ]
     },
     "execution_count": 160,
     "metadata": {},
     "output_type": "execute_result"
    }
   ],
   "source": [
    "df_clean.isna().sum()"
   ]
  },
  {
   "cell_type": "code",
   "execution_count": 161,
   "id": "b09576d9-dfe6-410b-9964-212ce7cae617",
   "metadata": {},
   "outputs": [],
   "source": [
    "df_clean.dropna(subset=['target'], inplace=True)"
   ]
  },
  {
   "cell_type": "code",
   "execution_count": 162,
   "id": "108d0276-b7d0-4e2e-ad6d-4434ead711ea",
   "metadata": {},
   "outputs": [],
   "source": [
    "df_clean['activity'] = df_clean['activity'].fillna(df_clean['activity'].mean())"
   ]
  },
  {
   "cell_type": "code",
   "execution_count": 163,
   "id": "6578d6dd-beda-4128-95a7-daf760d3c650",
   "metadata": {},
   "outputs": [],
   "source": [
    "df_clean['wake_up'] = df_clean['wake_up'].fillna(df_clean['wake_up'].median())"
   ]
  },
  {
   "cell_type": "code",
   "execution_count": 164,
   "id": "8399f572-52fe-4772-a5c6-e30d46c368b6",
   "metadata": {},
   "outputs": [],
   "source": [
    "df_clean['sleep'] = df_clean['sleep'].fillna(df_clean['sleep'].median())"
   ]
  },
  {
   "cell_type": "code",
   "execution_count": 165,
   "id": "5cde9f1d-eb98-48f6-bd32-fe1e14d5c297",
   "metadata": {},
   "outputs": [],
   "source": [
    "df_clean = df_clean.fillna(0)"
   ]
  },
  {
   "cell_type": "code",
   "execution_count": 166,
   "id": "ad7ce71c-90bf-4310-ab2e-09d4702d8359",
   "metadata": {},
   "outputs": [],
   "source": [
    "df_clean['week_day'] = pd.to_datetime(df_clean['day']).dt.dayofweek"
   ]
  },
  {
   "cell_type": "code",
   "execution_count": 167,
   "id": "b547cff5-3da4-4743-8e6f-47599e23cb12",
   "metadata": {},
   "outputs": [
    {
     "name": "stdout",
     "output_type": "stream",
     "text": [
      "                   day              day_id       id  mood  activity  \\\n",
      "Unnamed: 0                                                            \n",
      "1           2014-02-26  AS14.01_2014-02-26  AS14.01  6.25  0.119878   \n",
      "8           2014-03-21  AS14.01_2014-03-21  AS14.01  6.20  0.134050   \n",
      "13          2014-03-22  AS14.01_2014-03-22  AS14.01  6.40  0.236880   \n",
      "18          2014-03-23  AS14.01_2014-03-23  AS14.01  6.80  0.142741   \n",
      "23          2014-03-24  AS14.01_2014-03-24  AS14.01  6.00  0.078961   \n",
      "...                ...                 ...      ...   ...       ...   \n",
      "5618        2014-05-26  AS14.33_2014-05-26  AS14.33  5.40  0.115201   \n",
      "5623        2014-05-27  AS14.33_2014-05-27  AS14.33  6.20  0.012704   \n",
      "5628        2014-05-28  AS14.33_2014-05-28  AS14.33  8.20  0.103301   \n",
      "5633        2014-05-29  AS14.33_2014-05-29  AS14.33  7.00  0.169354   \n",
      "5636        2014-05-30  AS14.33_2014-05-30  AS14.33  6.80  0.192901   \n",
      "\n",
      "            circumplex.valence  circumplex.arousal  appCat.other  \\\n",
      "Unnamed: 0                                                         \n",
      "1                     0.750000           -0.250000     -0.579683   \n",
      "8                     0.200000            0.200000      0.533953   \n",
      "13                    0.537562            0.600000     -0.123812   \n",
      "18                    0.800000            0.200000     -0.241423   \n",
      "23                    0.000000            0.800000     -0.270523   \n",
      "...                        ...                 ...           ...   \n",
      "5618                  0.000000           -0.400000      0.515773   \n",
      "5623                  0.400000           -0.600000      0.083089   \n",
      "5628                  1.200000            0.000000      1.881900   \n",
      "5633                  1.000000           -1.333333     -0.444041   \n",
      "5636                 -0.400000           -0.800000     -0.335311   \n",
      "\n",
      "            appCat.finance  appCat.social  ...  appCat.weather  sms  \\\n",
      "Unnamed: 0                                 ...                        \n",
      "1                -0.249944      -0.658519  ...       -0.212705  2.0   \n",
      "8                 0.613145       2.312791  ...       -0.212705  0.0   \n",
      "13                0.117214      -0.368781  ...       -0.212705  1.0   \n",
      "18                0.506165      -0.064824  ...        1.466689  0.0   \n",
      "23                0.344205       1.456548  ...       -0.212705  0.0   \n",
      "...                    ...            ...  ...             ...  ...   \n",
      "5618             -0.249944       2.891894  ...       -0.212705  3.0   \n",
      "5623             -0.249944       0.666404  ...       -0.212705  2.0   \n",
      "5628             -0.249944       2.664251  ...       -0.212705  1.0   \n",
      "5633             -0.249944       0.521122  ...       -0.212705  1.0   \n",
      "5636             -0.249944       1.428291  ...       -0.212705  0.0   \n",
      "\n",
      "            appCat.entertainment    screen  appCat.utilities    target  \\\n",
      "Unnamed: 0                                                               \n",
      "1                      -0.683045 -1.193557         -0.273505  6.333333   \n",
      "8                       0.373579  2.562487          3.894332  6.400000   \n",
      "13                     -0.585167  0.089626          0.773902  6.800000   \n",
      "18                     -0.584095  0.221591         -0.005591  6.000000   \n",
      "23                      0.312704  1.950044          1.066864  6.750000   \n",
      "...                          ...       ...               ...       ...   \n",
      "5618                    0.039338  2.760179         -0.273505  6.200000   \n",
      "5623                   -0.552266 -0.339124          0.226712  8.200000   \n",
      "5628                   -0.038339  1.798272         -0.000426  7.000000   \n",
      "5633                   -0.539634 -0.447872         -0.245018  6.800000   \n",
      "5636                   -0.410125  0.790634          1.799786  7.000000   \n",
      "\n",
      "            wake_up  sleep  week_day  week_mood  \n",
      "Unnamed: 0                                       \n",
      "1               7.0   23.0         2   6.250000  \n",
      "8               0.0   21.0         4   6.225000  \n",
      "13              8.0   22.0         5   6.283333  \n",
      "18              9.0   23.0         6   6.412500  \n",
      "23              8.0   22.0         0   6.330000  \n",
      "...             ...    ...       ...        ...  \n",
      "5618            9.0   21.0         0   5.983333  \n",
      "5623           10.0   22.0         1   5.976190  \n",
      "5628            8.0   23.0         2   6.290476  \n",
      "5633           11.0   23.0         3   6.469048  \n",
      "5636            0.0   22.0         4   6.607143  \n",
      "\n",
      "[1216 rows x 27 columns]\n"
     ]
    }
   ],
   "source": [
    "def week_mood(df):\n",
    "    result = []\n",
    "\n",
    "    for i in range(len(df)):\n",
    "        current_id = df.iloc[i]['id']\n",
    "        above = df.iloc[:i+1]\n",
    "        same_id_above = above[above['id'] == current_id]\n",
    "        week = same_id_above.tail(7)\n",
    "        avg = week['mood'].mean() if not week.empty else None\n",
    "        result.append(avg)\n",
    "\n",
    "    df['week_mood'] = result\n",
    "    return df\n",
    "\n",
    "df_clean = week_mood(df_clean)\n",
    "print(df_clean)"
   ]
  },
  {
   "cell_type": "code",
   "execution_count": 168,
   "id": "b426db5d-884c-4b47-94ce-af25db13efba",
   "metadata": {},
   "outputs": [],
   "source": [
    "df_classification = df_clean.copy()"
   ]
  },
  {
   "cell_type": "code",
   "execution_count": 169,
   "id": "73d84338-484f-4ff9-aaf7-71ed1c16860c",
   "metadata": {},
   "outputs": [],
   "source": [
    "df_classification['target'] = df_classification['target'].round().astype(int)"
   ]
  },
  {
   "cell_type": "code",
   "execution_count": 170,
   "id": "33ece3d0-95e9-47ea-885c-26090cb8a87d",
   "metadata": {},
   "outputs": [],
   "source": [
    "df_classification.to_csv('features_classification.csv', index=True)"
   ]
  },
  {
   "cell_type": "code",
   "execution_count": 171,
   "id": "f09b4d5b-b3a4-4e5c-a572-72261206beb9",
   "metadata": {},
   "outputs": [],
   "source": [
    "df_clean.to_csv('features_regression.csv', index=True)"
   ]
  },
  {
   "cell_type": "code",
   "execution_count": null,
   "id": "80007a32-1db9-444a-bf1d-e34641bdcfc1",
   "metadata": {},
   "outputs": [],
   "source": []
  }
 ],
 "metadata": {
  "kernelspec": {
   "display_name": "Python 3 (ipykernel)",
   "language": "python",
   "name": "python3"
  },
  "language_info": {
   "codemirror_mode": {
    "name": "ipython",
    "version": 3
   },
   "file_extension": ".py",
   "mimetype": "text/x-python",
   "name": "python",
   "nbconvert_exporter": "python",
   "pygments_lexer": "ipython3",
   "version": "3.9.19"
  }
 },
 "nbformat": 4,
 "nbformat_minor": 5
}
